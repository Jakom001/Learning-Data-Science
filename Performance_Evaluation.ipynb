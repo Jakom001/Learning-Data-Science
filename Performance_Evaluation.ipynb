{
  "nbformat": 4,
  "nbformat_minor": 0,
  "metadata": {
    "colab": {
      "provenance": [],
      "authorship_tag": "ABX9TyM9mpblonlYpptGvUpCrB5E",
      "include_colab_link": true
    },
    "kernelspec": {
      "name": "python3",
      "display_name": "Python 3"
    },
    "language_info": {
      "name": "python"
    }
  },
  "cells": [
    {
      "cell_type": "markdown",
      "metadata": {
        "id": "view-in-github",
        "colab_type": "text"
      },
      "source": [
        "<a href=\"https://colab.research.google.com/github/Jakom001/Learning-Data-Science/blob/main/Performance_Evaluation.ipynb\" target=\"_parent\"><img src=\"https://colab.research.google.com/assets/colab-badge.svg\" alt=\"Open In Colab\"/></a>"
      ]
    },
    {
      "cell_type": "markdown",
      "source": [
        "# Performance Evaluation, Cross Validation and Hyper-parameter Tuning\n",
        "\n",
        "1. Evaluation metrics\n",
        "2. Cross Validation\n",
        "3. Hyperparameter Tuning"
      ],
      "metadata": {
        "id": "zh33oSF5KhEj"
      }
    },
    {
      "cell_type": "markdown",
      "source": [
        "Load Libraries"
      ],
      "metadata": {
        "id": "vOCSLO2FKxt6"
      }
    },
    {
      "cell_type": "code",
      "execution_count": 7,
      "metadata": {
        "id": "0mbAzKrgA8AS"
      },
      "outputs": [],
      "source": [
        "import pandas as pd\n",
        "import numpy as np\n",
        "import matplotlib.pyplot as plt\n",
        "import warnings\n",
        "warnings.filterwarnings(\"ignore\")\n",
        "%matplotlib inline"
      ]
    },
    {
      "cell_type": "markdown",
      "source": [
        "Load data"
      ],
      "metadata": {
        "id": "Ee0CEQKEK1U0"
      }
    },
    {
      "cell_type": "code",
      "source": [
        "col = [\"num_preg\", \"plasma_glucose_conc\", \"D_blood_pressure\", \"skin_fold_thickness\", \"serum_insulin\", \"body_mass_index\", \"pedigree_func\", \"age\", \"diabetes\"]\n",
        "diabetes_data = pd.read_csv(\"https://raw.githubusercontent.com/dphi-official/ML_Models/master/Performance_Evaluation/diabetes.txt\", names = col)"
      ],
      "metadata": {
        "id": "0BdOox1SBF4X"
      },
      "execution_count": 8,
      "outputs": []
    },
    {
      "cell_type": "code",
      "source": [
        "diabetes_data.describe()"
      ],
      "metadata": {
        "colab": {
          "base_uri": "https://localhost:8080/",
          "height": 364
        },
        "id": "JVOsa-AjBQMI",
        "outputId": "4bff8718-1a9a-4d7a-9467-8fd48fc8ed82"
      },
      "execution_count": 9,
      "outputs": [
        {
          "output_type": "execute_result",
          "data": {
            "text/plain": [
              "         num_preg  plasma_glucose_conc  D_blood_pressure  skin_fold_thickness  \\\n",
              "count  768.000000           768.000000        768.000000           768.000000   \n",
              "mean     3.845052           120.894531         69.105469            20.536458   \n",
              "std      3.369578            31.972618         19.355807            15.952218   \n",
              "min      0.000000             0.000000          0.000000             0.000000   \n",
              "25%      1.000000            99.000000         62.000000             0.000000   \n",
              "50%      3.000000           117.000000         72.000000            23.000000   \n",
              "75%      6.000000           140.250000         80.000000            32.000000   \n",
              "max     17.000000           199.000000        122.000000            99.000000   \n",
              "\n",
              "       serum_insulin  body_mass_index  pedigree_func         age    diabetes  \n",
              "count     768.000000       768.000000     768.000000  768.000000  768.000000  \n",
              "mean       79.799479        31.992578       0.471876   33.240885    0.348958  \n",
              "std       115.244002         7.884160       0.331329   11.760232    0.476951  \n",
              "min         0.000000         0.000000       0.078000   21.000000    0.000000  \n",
              "25%         0.000000        27.300000       0.243750   24.000000    0.000000  \n",
              "50%        30.500000        32.000000       0.372500   29.000000    0.000000  \n",
              "75%       127.250000        36.600000       0.626250   41.000000    1.000000  \n",
              "max       846.000000        67.100000       2.420000   81.000000    1.000000  "
            ],
            "text/html": [
              "\n",
              "  <div id=\"df-59399b10-ce7d-4b9f-b3e6-6c1ed8b9a3bb\">\n",
              "    <div class=\"colab-df-container\">\n",
              "      <div>\n",
              "<style scoped>\n",
              "    .dataframe tbody tr th:only-of-type {\n",
              "        vertical-align: middle;\n",
              "    }\n",
              "\n",
              "    .dataframe tbody tr th {\n",
              "        vertical-align: top;\n",
              "    }\n",
              "\n",
              "    .dataframe thead th {\n",
              "        text-align: right;\n",
              "    }\n",
              "</style>\n",
              "<table border=\"1\" class=\"dataframe\">\n",
              "  <thead>\n",
              "    <tr style=\"text-align: right;\">\n",
              "      <th></th>\n",
              "      <th>num_preg</th>\n",
              "      <th>plasma_glucose_conc</th>\n",
              "      <th>D_blood_pressure</th>\n",
              "      <th>skin_fold_thickness</th>\n",
              "      <th>serum_insulin</th>\n",
              "      <th>body_mass_index</th>\n",
              "      <th>pedigree_func</th>\n",
              "      <th>age</th>\n",
              "      <th>diabetes</th>\n",
              "    </tr>\n",
              "  </thead>\n",
              "  <tbody>\n",
              "    <tr>\n",
              "      <th>count</th>\n",
              "      <td>768.000000</td>\n",
              "      <td>768.000000</td>\n",
              "      <td>768.000000</td>\n",
              "      <td>768.000000</td>\n",
              "      <td>768.000000</td>\n",
              "      <td>768.000000</td>\n",
              "      <td>768.000000</td>\n",
              "      <td>768.000000</td>\n",
              "      <td>768.000000</td>\n",
              "    </tr>\n",
              "    <tr>\n",
              "      <th>mean</th>\n",
              "      <td>3.845052</td>\n",
              "      <td>120.894531</td>\n",
              "      <td>69.105469</td>\n",
              "      <td>20.536458</td>\n",
              "      <td>79.799479</td>\n",
              "      <td>31.992578</td>\n",
              "      <td>0.471876</td>\n",
              "      <td>33.240885</td>\n",
              "      <td>0.348958</td>\n",
              "    </tr>\n",
              "    <tr>\n",
              "      <th>std</th>\n",
              "      <td>3.369578</td>\n",
              "      <td>31.972618</td>\n",
              "      <td>19.355807</td>\n",
              "      <td>15.952218</td>\n",
              "      <td>115.244002</td>\n",
              "      <td>7.884160</td>\n",
              "      <td>0.331329</td>\n",
              "      <td>11.760232</td>\n",
              "      <td>0.476951</td>\n",
              "    </tr>\n",
              "    <tr>\n",
              "      <th>min</th>\n",
              "      <td>0.000000</td>\n",
              "      <td>0.000000</td>\n",
              "      <td>0.000000</td>\n",
              "      <td>0.000000</td>\n",
              "      <td>0.000000</td>\n",
              "      <td>0.000000</td>\n",
              "      <td>0.078000</td>\n",
              "      <td>21.000000</td>\n",
              "      <td>0.000000</td>\n",
              "    </tr>\n",
              "    <tr>\n",
              "      <th>25%</th>\n",
              "      <td>1.000000</td>\n",
              "      <td>99.000000</td>\n",
              "      <td>62.000000</td>\n",
              "      <td>0.000000</td>\n",
              "      <td>0.000000</td>\n",
              "      <td>27.300000</td>\n",
              "      <td>0.243750</td>\n",
              "      <td>24.000000</td>\n",
              "      <td>0.000000</td>\n",
              "    </tr>\n",
              "    <tr>\n",
              "      <th>50%</th>\n",
              "      <td>3.000000</td>\n",
              "      <td>117.000000</td>\n",
              "      <td>72.000000</td>\n",
              "      <td>23.000000</td>\n",
              "      <td>30.500000</td>\n",
              "      <td>32.000000</td>\n",
              "      <td>0.372500</td>\n",
              "      <td>29.000000</td>\n",
              "      <td>0.000000</td>\n",
              "    </tr>\n",
              "    <tr>\n",
              "      <th>75%</th>\n",
              "      <td>6.000000</td>\n",
              "      <td>140.250000</td>\n",
              "      <td>80.000000</td>\n",
              "      <td>32.000000</td>\n",
              "      <td>127.250000</td>\n",
              "      <td>36.600000</td>\n",
              "      <td>0.626250</td>\n",
              "      <td>41.000000</td>\n",
              "      <td>1.000000</td>\n",
              "    </tr>\n",
              "    <tr>\n",
              "      <th>max</th>\n",
              "      <td>17.000000</td>\n",
              "      <td>199.000000</td>\n",
              "      <td>122.000000</td>\n",
              "      <td>99.000000</td>\n",
              "      <td>846.000000</td>\n",
              "      <td>67.100000</td>\n",
              "      <td>2.420000</td>\n",
              "      <td>81.000000</td>\n",
              "      <td>1.000000</td>\n",
              "    </tr>\n",
              "  </tbody>\n",
              "</table>\n",
              "</div>\n",
              "      <button class=\"colab-df-convert\" onclick=\"convertToInteractive('df-59399b10-ce7d-4b9f-b3e6-6c1ed8b9a3bb')\"\n",
              "              title=\"Convert this dataframe to an interactive table.\"\n",
              "              style=\"display:none;\">\n",
              "        \n",
              "  <svg xmlns=\"http://www.w3.org/2000/svg\" height=\"24px\"viewBox=\"0 0 24 24\"\n",
              "       width=\"24px\">\n",
              "    <path d=\"M0 0h24v24H0V0z\" fill=\"none\"/>\n",
              "    <path d=\"M18.56 5.44l.94 2.06.94-2.06 2.06-.94-2.06-.94-.94-2.06-.94 2.06-2.06.94zm-11 1L8.5 8.5l.94-2.06 2.06-.94-2.06-.94L8.5 2.5l-.94 2.06-2.06.94zm10 10l.94 2.06.94-2.06 2.06-.94-2.06-.94-.94-2.06-.94 2.06-2.06.94z\"/><path d=\"M17.41 7.96l-1.37-1.37c-.4-.4-.92-.59-1.43-.59-.52 0-1.04.2-1.43.59L10.3 9.45l-7.72 7.72c-.78.78-.78 2.05 0 2.83L4 21.41c.39.39.9.59 1.41.59.51 0 1.02-.2 1.41-.59l7.78-7.78 2.81-2.81c.8-.78.8-2.07 0-2.86zM5.41 20L4 18.59l7.72-7.72 1.47 1.35L5.41 20z\"/>\n",
              "  </svg>\n",
              "      </button>\n",
              "      \n",
              "  <style>\n",
              "    .colab-df-container {\n",
              "      display:flex;\n",
              "      flex-wrap:wrap;\n",
              "      gap: 12px;\n",
              "    }\n",
              "\n",
              "    .colab-df-convert {\n",
              "      background-color: #E8F0FE;\n",
              "      border: none;\n",
              "      border-radius: 50%;\n",
              "      cursor: pointer;\n",
              "      display: none;\n",
              "      fill: #1967D2;\n",
              "      height: 32px;\n",
              "      padding: 0 0 0 0;\n",
              "      width: 32px;\n",
              "    }\n",
              "\n",
              "    .colab-df-convert:hover {\n",
              "      background-color: #E2EBFA;\n",
              "      box-shadow: 0px 1px 2px rgba(60, 64, 67, 0.3), 0px 1px 3px 1px rgba(60, 64, 67, 0.15);\n",
              "      fill: #174EA6;\n",
              "    }\n",
              "\n",
              "    [theme=dark] .colab-df-convert {\n",
              "      background-color: #3B4455;\n",
              "      fill: #D2E3FC;\n",
              "    }\n",
              "\n",
              "    [theme=dark] .colab-df-convert:hover {\n",
              "      background-color: #434B5C;\n",
              "      box-shadow: 0px 1px 3px 1px rgba(0, 0, 0, 0.15);\n",
              "      filter: drop-shadow(0px 1px 2px rgba(0, 0, 0, 0.3));\n",
              "      fill: #FFFFFF;\n",
              "    }\n",
              "  </style>\n",
              "\n",
              "      <script>\n",
              "        const buttonEl =\n",
              "          document.querySelector('#df-59399b10-ce7d-4b9f-b3e6-6c1ed8b9a3bb button.colab-df-convert');\n",
              "        buttonEl.style.display =\n",
              "          google.colab.kernel.accessAllowed ? 'block' : 'none';\n",
              "\n",
              "        async function convertToInteractive(key) {\n",
              "          const element = document.querySelector('#df-59399b10-ce7d-4b9f-b3e6-6c1ed8b9a3bb');\n",
              "          const dataTable =\n",
              "            await google.colab.kernel.invokeFunction('convertToInteractive',\n",
              "                                                     [key], {});\n",
              "          if (!dataTable) return;\n",
              "\n",
              "          const docLinkHtml = 'Like what you see? Visit the ' +\n",
              "            '<a target=\"_blank\" href=https://colab.research.google.com/notebooks/data_table.ipynb>data table notebook</a>'\n",
              "            + ' to learn more about interactive tables.';\n",
              "          element.innerHTML = '';\n",
              "          dataTable['output_type'] = 'display_data';\n",
              "          await google.colab.output.renderOutput(dataTable, element);\n",
              "          const docLink = document.createElement('div');\n",
              "          docLink.innerHTML = docLinkHtml;\n",
              "          element.appendChild(docLink);\n",
              "        }\n",
              "      </script>\n",
              "    </div>\n",
              "  </div>\n",
              "  "
            ]
          },
          "metadata": {},
          "execution_count": 9
        }
      ]
    },
    {
      "cell_type": "code",
      "source": [
        "diabetes_data.head()"
      ],
      "metadata": {
        "colab": {
          "base_uri": "https://localhost:8080/",
          "height": 270
        },
        "id": "T3FjowQ8BYD8",
        "outputId": "9cd965b8-d0af-4ee1-f3b0-b546dbbef148"
      },
      "execution_count": 10,
      "outputs": [
        {
          "output_type": "execute_result",
          "data": {
            "text/plain": [
              "   num_preg  plasma_glucose_conc  D_blood_pressure  skin_fold_thickness  \\\n",
              "0         6                  148                72                   35   \n",
              "1         1                   85                66                   29   \n",
              "2         8                  183                64                    0   \n",
              "3         1                   89                66                   23   \n",
              "4         0                  137                40                   35   \n",
              "\n",
              "   serum_insulin  body_mass_index  pedigree_func  age  diabetes  \n",
              "0              0             33.6          0.627   50         1  \n",
              "1              0             26.6          0.351   31         0  \n",
              "2              0             23.3          0.672   32         1  \n",
              "3             94             28.1          0.167   21         0  \n",
              "4            168             43.1          2.288   33         1  "
            ],
            "text/html": [
              "\n",
              "  <div id=\"df-ff73165e-7e62-41e7-9298-65aac9e9db74\">\n",
              "    <div class=\"colab-df-container\">\n",
              "      <div>\n",
              "<style scoped>\n",
              "    .dataframe tbody tr th:only-of-type {\n",
              "        vertical-align: middle;\n",
              "    }\n",
              "\n",
              "    .dataframe tbody tr th {\n",
              "        vertical-align: top;\n",
              "    }\n",
              "\n",
              "    .dataframe thead th {\n",
              "        text-align: right;\n",
              "    }\n",
              "</style>\n",
              "<table border=\"1\" class=\"dataframe\">\n",
              "  <thead>\n",
              "    <tr style=\"text-align: right;\">\n",
              "      <th></th>\n",
              "      <th>num_preg</th>\n",
              "      <th>plasma_glucose_conc</th>\n",
              "      <th>D_blood_pressure</th>\n",
              "      <th>skin_fold_thickness</th>\n",
              "      <th>serum_insulin</th>\n",
              "      <th>body_mass_index</th>\n",
              "      <th>pedigree_func</th>\n",
              "      <th>age</th>\n",
              "      <th>diabetes</th>\n",
              "    </tr>\n",
              "  </thead>\n",
              "  <tbody>\n",
              "    <tr>\n",
              "      <th>0</th>\n",
              "      <td>6</td>\n",
              "      <td>148</td>\n",
              "      <td>72</td>\n",
              "      <td>35</td>\n",
              "      <td>0</td>\n",
              "      <td>33.6</td>\n",
              "      <td>0.627</td>\n",
              "      <td>50</td>\n",
              "      <td>1</td>\n",
              "    </tr>\n",
              "    <tr>\n",
              "      <th>1</th>\n",
              "      <td>1</td>\n",
              "      <td>85</td>\n",
              "      <td>66</td>\n",
              "      <td>29</td>\n",
              "      <td>0</td>\n",
              "      <td>26.6</td>\n",
              "      <td>0.351</td>\n",
              "      <td>31</td>\n",
              "      <td>0</td>\n",
              "    </tr>\n",
              "    <tr>\n",
              "      <th>2</th>\n",
              "      <td>8</td>\n",
              "      <td>183</td>\n",
              "      <td>64</td>\n",
              "      <td>0</td>\n",
              "      <td>0</td>\n",
              "      <td>23.3</td>\n",
              "      <td>0.672</td>\n",
              "      <td>32</td>\n",
              "      <td>1</td>\n",
              "    </tr>\n",
              "    <tr>\n",
              "      <th>3</th>\n",
              "      <td>1</td>\n",
              "      <td>89</td>\n",
              "      <td>66</td>\n",
              "      <td>23</td>\n",
              "      <td>94</td>\n",
              "      <td>28.1</td>\n",
              "      <td>0.167</td>\n",
              "      <td>21</td>\n",
              "      <td>0</td>\n",
              "    </tr>\n",
              "    <tr>\n",
              "      <th>4</th>\n",
              "      <td>0</td>\n",
              "      <td>137</td>\n",
              "      <td>40</td>\n",
              "      <td>35</td>\n",
              "      <td>168</td>\n",
              "      <td>43.1</td>\n",
              "      <td>2.288</td>\n",
              "      <td>33</td>\n",
              "      <td>1</td>\n",
              "    </tr>\n",
              "  </tbody>\n",
              "</table>\n",
              "</div>\n",
              "      <button class=\"colab-df-convert\" onclick=\"convertToInteractive('df-ff73165e-7e62-41e7-9298-65aac9e9db74')\"\n",
              "              title=\"Convert this dataframe to an interactive table.\"\n",
              "              style=\"display:none;\">\n",
              "        \n",
              "  <svg xmlns=\"http://www.w3.org/2000/svg\" height=\"24px\"viewBox=\"0 0 24 24\"\n",
              "       width=\"24px\">\n",
              "    <path d=\"M0 0h24v24H0V0z\" fill=\"none\"/>\n",
              "    <path d=\"M18.56 5.44l.94 2.06.94-2.06 2.06-.94-2.06-.94-.94-2.06-.94 2.06-2.06.94zm-11 1L8.5 8.5l.94-2.06 2.06-.94-2.06-.94L8.5 2.5l-.94 2.06-2.06.94zm10 10l.94 2.06.94-2.06 2.06-.94-2.06-.94-.94-2.06-.94 2.06-2.06.94z\"/><path d=\"M17.41 7.96l-1.37-1.37c-.4-.4-.92-.59-1.43-.59-.52 0-1.04.2-1.43.59L10.3 9.45l-7.72 7.72c-.78.78-.78 2.05 0 2.83L4 21.41c.39.39.9.59 1.41.59.51 0 1.02-.2 1.41-.59l7.78-7.78 2.81-2.81c.8-.78.8-2.07 0-2.86zM5.41 20L4 18.59l7.72-7.72 1.47 1.35L5.41 20z\"/>\n",
              "  </svg>\n",
              "      </button>\n",
              "      \n",
              "  <style>\n",
              "    .colab-df-container {\n",
              "      display:flex;\n",
              "      flex-wrap:wrap;\n",
              "      gap: 12px;\n",
              "    }\n",
              "\n",
              "    .colab-df-convert {\n",
              "      background-color: #E8F0FE;\n",
              "      border: none;\n",
              "      border-radius: 50%;\n",
              "      cursor: pointer;\n",
              "      display: none;\n",
              "      fill: #1967D2;\n",
              "      height: 32px;\n",
              "      padding: 0 0 0 0;\n",
              "      width: 32px;\n",
              "    }\n",
              "\n",
              "    .colab-df-convert:hover {\n",
              "      background-color: #E2EBFA;\n",
              "      box-shadow: 0px 1px 2px rgba(60, 64, 67, 0.3), 0px 1px 3px 1px rgba(60, 64, 67, 0.15);\n",
              "      fill: #174EA6;\n",
              "    }\n",
              "\n",
              "    [theme=dark] .colab-df-convert {\n",
              "      background-color: #3B4455;\n",
              "      fill: #D2E3FC;\n",
              "    }\n",
              "\n",
              "    [theme=dark] .colab-df-convert:hover {\n",
              "      background-color: #434B5C;\n",
              "      box-shadow: 0px 1px 3px 1px rgba(0, 0, 0, 0.15);\n",
              "      filter: drop-shadow(0px 1px 2px rgba(0, 0, 0, 0.3));\n",
              "      fill: #FFFFFF;\n",
              "    }\n",
              "  </style>\n",
              "\n",
              "      <script>\n",
              "        const buttonEl =\n",
              "          document.querySelector('#df-ff73165e-7e62-41e7-9298-65aac9e9db74 button.colab-df-convert');\n",
              "        buttonEl.style.display =\n",
              "          google.colab.kernel.accessAllowed ? 'block' : 'none';\n",
              "\n",
              "        async function convertToInteractive(key) {\n",
              "          const element = document.querySelector('#df-ff73165e-7e62-41e7-9298-65aac9e9db74');\n",
              "          const dataTable =\n",
              "            await google.colab.kernel.invokeFunction('convertToInteractive',\n",
              "                                                     [key], {});\n",
              "          if (!dataTable) return;\n",
              "\n",
              "          const docLinkHtml = 'Like what you see? Visit the ' +\n",
              "            '<a target=\"_blank\" href=https://colab.research.google.com/notebooks/data_table.ipynb>data table notebook</a>'\n",
              "            + ' to learn more about interactive tables.';\n",
              "          element.innerHTML = '';\n",
              "          dataTable['output_type'] = 'display_data';\n",
              "          await google.colab.output.renderOutput(dataTable, element);\n",
              "          const docLink = document.createElement('div');\n",
              "          docLink.innerHTML = docLinkHtml;\n",
              "          element.appendChild(docLink);\n",
              "        }\n",
              "      </script>\n",
              "    </div>\n",
              "  </div>\n",
              "  "
            ]
          },
          "metadata": {},
          "execution_count": 10
        }
      ]
    },
    {
      "cell_type": "markdown",
      "source": [
        "Separating input and output Variables"
      ],
      "metadata": {
        "id": "e8tV297AK96y"
      }
    },
    {
      "cell_type": "code",
      "source": [
        "X= diabetes_data.drop('diabetes', axis = 1)\n",
        "y = diabetes_data.diabetes"
      ],
      "metadata": {
        "id": "wDKFNHiIBd-9"
      },
      "execution_count": 11,
      "outputs": []
    },
    {
      "cell_type": "markdown",
      "source": [
        "Spliting the data into training and testing."
      ],
      "metadata": {
        "id": "HXR9oFLbLCzo"
      }
    },
    {
      "cell_type": "code",
      "source": [
        "from sklearn.model_selection import train_test_split\n",
        "\n",
        "X_train, X_test, y_train, y_test = train_test_split(X, y, test_size= 0.2, random_state=3)\n"
      ],
      "metadata": {
        "id": "b5bmzu1DBqIc"
      },
      "execution_count": 12,
      "outputs": []
    },
    {
      "cell_type": "markdown",
      "source": [
        "**Developing a model** <br>\n",
        "Here we have used MLPClassifier from neural_network module of sklearn library. MLP Classifier is also a classification algorithm like logistic regression or decision tree. We will soon learn about Neural Networks and Artificial Neural Networks in the upcoming sessions. So, no need to worry about it.\n",
        "\n"
      ],
      "metadata": {
        "id": "0O4lrb8aDEst"
      }
    },
    {
      "cell_type": "code",
      "source": [
        "from sklearn.neural_network import MLPClassifier\n",
        "\n",
        "mlp = MLPClassifier(max_iter= 1000)\n",
        "mlp.fit(X_train, y_train)\n",
        "y_pred = mlp.predict(X_test)"
      ],
      "metadata": {
        "id": "MhVDbPJMCi4E"
      },
      "execution_count": 13,
      "outputs": []
    },
    {
      "cell_type": "markdown",
      "source": [
        "**Performance Evaluation**\n",
        "\n",
        "1. Evaluation Metrics\n",
        "\n",
        "<br> Confusion Matrix "
      ],
      "metadata": {
        "id": "gk8ujO92EDcU"
      }
    },
    {
      "cell_type": "code",
      "source": [
        "from sklearn.metrics import confusion_matrix\n",
        "\n",
        "cm = confusion_matrix(y_test, y_pred)\n",
        "cm"
      ],
      "metadata": {
        "colab": {
          "base_uri": "https://localhost:8080/"
        },
        "id": "XCI7dza-Cwbe",
        "outputId": "2091362c-e281-49d3-e6ca-fcbfda1e2ef7"
      },
      "execution_count": 14,
      "outputs": [
        {
          "output_type": "execute_result",
          "data": {
            "text/plain": [
              "array([[82, 10],\n",
              "       [45, 17]])"
            ]
          },
          "metadata": {},
          "execution_count": 14
        }
      ]
    },
    {
      "cell_type": "code",
      "source": [
        "tn, fp, fn, tp = confusion_matrix(y_test, y_pred).ravel()\n",
        "# ravel is used to convert a 2D array to a 1d array."
      ],
      "metadata": {
        "id": "MyG_JthbFRBa"
      },
      "execution_count": 15,
      "outputs": []
    },
    {
      "cell_type": "code",
      "source": [
        "print(\"True Positive\", tp)\n",
        "print(\"True Negative\", tn)\n",
        "print(\"False Positive\", fp)\n",
        "print(\"False Negative\", fn)"
      ],
      "metadata": {
        "colab": {
          "base_uri": "https://localhost:8080/"
        },
        "id": "8NRvgi1YF30e",
        "outputId": "604f1711-e0e0-4a34-97a5-6234c22a769e"
      },
      "execution_count": 16,
      "outputs": [
        {
          "output_type": "stream",
          "name": "stdout",
          "text": [
            "True Positive 17\n",
            "True Negative 82\n",
            "False Positive 10\n",
            "False Negative 45\n"
          ]
        }
      ]
    },
    {
      "cell_type": "code",
      "source": [
        "import seaborn as sns\n",
        "plt.figure(figsize=(12,8))\n",
        "sns.heatmap(cm, annot =True)\n",
        "plt.xlabel(\"Predicted value\")\n",
        "plt.ylabel(\"True Value\")"
      ],
      "metadata": {
        "colab": {
          "base_uri": "https://localhost:8080/",
          "height": 514
        },
        "id": "zeb-GELVExB1",
        "outputId": "f44406e6-e6bf-4bf5-c804-69e0427ed548"
      },
      "execution_count": 17,
      "outputs": [
        {
          "output_type": "execute_result",
          "data": {
            "text/plain": [
              "Text(87.0, 0.5, 'True Value')"
            ]
          },
          "metadata": {},
          "execution_count": 17
        },
        {
          "output_type": "display_data",
          "data": {
            "text/plain": [
              "<Figure size 864x576 with 2 Axes>"
            ],
            "image/png": "[encoded data removed]"
          },
          "metadata": {
            "needs_background": "light"
          }
        }
      ]
    },
    {
      "cell_type": "markdown",
      "source": [
        "Accuracy"
      ],
      "metadata": {
        "id": "HtdoXmfPHIB6"
      }
    },
    {
      "cell_type": "code",
      "source": [
        "from sklearn.metrics import accuracy_score\n",
        "acc = accuracy_score(y_test, y_pred)\n",
        "acc"
      ],
      "metadata": {
        "colab": {
          "base_uri": "https://localhost:8080/"
        },
        "id": "h0adlygkHEm4",
        "outputId": "f4bb2639-1d87-4196-f2df-2a059d5a8a56"
      },
      "execution_count": 18,
      "outputs": [
        {
          "output_type": "execute_result",
          "data": {
            "text/plain": [
              "0.6428571428571429"
            ]
          },
          "metadata": {},
          "execution_count": 18
        }
      ]
    },
    {
      "cell_type": "markdown",
      "source": [
        "When is it good to use accuracy score as a model evaluation metric?\n",
        "\n",
        "The classifications in the dataset is nearly symmetrical (means equal distribution of all the classes).\n",
        "The false positive and false negative on test data are nearly equal."
      ],
      "metadata": {
        "id": "YvyXp2U4JS51"
      }
    },
    {
      "cell_type": "markdown",
      "source": [
        "Recall/ Sensitivity"
      ],
      "metadata": {
        "id": "x2T5rVmlHL5c"
      }
    },
    {
      "cell_type": "code",
      "source": [
        "from sklearn.metrics import recall_score"
      ],
      "metadata": {
        "id": "hZpurlzpHF6W"
      },
      "execution_count": 19,
      "outputs": []
    },
    {
      "cell_type": "code",
      "source": [
        "recall_score(y_test, y_pred)"
      ],
      "metadata": {
        "colab": {
          "base_uri": "https://localhost:8080/"
        },
        "id": "NuYQdbHTHW-4",
        "outputId": "15fb358b-0a1f-4074-da4e-bb1df56bdc62"
      },
      "execution_count": 20,
      "outputs": [
        {
          "output_type": "execute_result",
          "data": {
            "text/plain": [
              "0.27419354838709675"
            ]
          },
          "metadata": {},
          "execution_count": 20
        }
      ]
    },
    {
      "cell_type": "markdown",
      "source": [
        "**Specificity**\n",
        "<br>\n",
        "adding parameter pos_label =0 to the recall function, we treat that as the positive class, and hence gives the correct output"
      ],
      "metadata": {
        "id": "C_aUb5TuJV_0"
      }
    },
    {
      "cell_type": "code",
      "source": [
        "print(\"Specificity with recall pos label = 0: \", recall_score(y_test, y_pred, pos_label =0))"
      ],
      "metadata": {
        "colab": {
          "base_uri": "https://localhost:8080/"
        },
        "id": "JGFYf4EFIviR",
        "outputId": "a3195123-e75b-47c4-8196-78360edd012d"
      },
      "execution_count": 21,
      "outputs": [
        {
          "output_type": "stream",
          "name": "stdout",
          "text": [
            "Specificity with recall pos label = 0:  0.8913043478260869\n"
          ]
        }
      ]
    },
    {
      "cell_type": "markdown",
      "source": [
        "Checking with formulas (tn , fp from confusion matrix):"
      ],
      "metadata": {
        "id": "GKuKjHwOJ1kY"
      }
    },
    {
      "cell_type": "code",
      "source": [
        "print(\"Specificity with Formulas: \", tn/(tn+fp))"
      ],
      "metadata": {
        "colab": {
          "base_uri": "https://localhost:8080/"
        },
        "id": "LVuFNrmEKDWd",
        "outputId": "7b0dc7ba-1e72-42f2-a112-e9ba8b68ba15"
      },
      "execution_count": 22,
      "outputs": [
        {
          "output_type": "stream",
          "name": "stdout",
          "text": [
            "Specificity with Formulas:  0.8913043478260869\n"
          ]
        }
      ]
    },
    {
      "cell_type": "markdown",
      "source": [
        "Precission"
      ],
      "metadata": {
        "id": "TNgv8OW-KM0r"
      }
    },
    {
      "cell_type": "code",
      "source": [
        "from sklearn.metrics import precision_score\n",
        "precision_score(y_test, y_pred)"
      ],
      "metadata": {
        "colab": {
          "base_uri": "https://localhost:8080/"
        },
        "id": "eby-iDGrKFCO",
        "outputId": "3d06104a-f817-47b2-fd38-7ccc99768896"
      },
      "execution_count": 23,
      "outputs": [
        {
          "output_type": "execute_result",
          "data": {
            "text/plain": [
              "0.6296296296296297"
            ]
          },
          "metadata": {},
          "execution_count": 23
        }
      ]
    },
    {
      "cell_type": "markdown",
      "source": [
        "Checking with the formulae"
      ],
      "metadata": {
        "id": "zVRTbKnOKSL0"
      }
    },
    {
      "cell_type": "code",
      "source": [
        "tp / (tp + fp)"
      ],
      "metadata": {
        "colab": {
          "base_uri": "https://localhost:8080/"
        },
        "id": "0iv1S1JVKVtm",
        "outputId": "867466c5-0488-4c14-8ce0-56fd51f3b91c"
      },
      "execution_count": 24,
      "outputs": [
        {
          "output_type": "execute_result",
          "data": {
            "text/plain": [
              "0.6296296296296297"
            ]
          },
          "metadata": {},
          "execution_count": 24
        }
      ]
    },
    {
      "cell_type": "code",
      "source": [],
      "metadata": {
        "id": "twSESSTmPA5X"
      },
      "execution_count": 24,
      "outputs": []
    },
    {
      "cell_type": "markdown",
      "source": [
        "Imbalanced Dataset"
      ],
      "metadata": {
        "id": "47gls9PZMs1H"
      }
    },
    {
      "cell_type": "code",
      "source": [
        "diabetes_data.diabetes.value_counts()"
      ],
      "metadata": {
        "colab": {
          "base_uri": "https://localhost:8080/"
        },
        "id": "Q2InK9erMrvd",
        "outputId": "7b308194-91ad-4b2c-ee05-dce3a0f68b42"
      },
      "execution_count": 25,
      "outputs": [
        {
          "output_type": "execute_result",
          "data": {
            "text/plain": [
              "0    500\n",
              "1    268\n",
              "Name: diabetes, dtype: int64"
            ]
          },
          "metadata": {},
          "execution_count": 25
        }
      ]
    },
    {
      "cell_type": "markdown",
      "source": [
        "Matthews Correlation Coefficient"
      ],
      "metadata": {
        "id": "n-kuuuj4NL9s"
      }
    },
    {
      "cell_type": "code",
      "source": [
        "from sklearn.metrics import matthews_corrcoef\n",
        "\n",
        "print(\"MCC Score:\", matthews_corrcoef(y_test, y_pred))"
      ],
      "metadata": {
        "colab": {
          "base_uri": "https://localhost:8080/"
        },
        "id": "VNlqt2_iNOVL",
        "outputId": "48b5135a-3039-4db6-c984-3ebdc9b9ad39"
      },
      "execution_count": 26,
      "outputs": [
        {
          "output_type": "stream",
          "name": "stdout",
          "text": [
            "MCC Score: 0.21345114722108818\n"
          ]
        }
      ]
    },
    {
      "cell_type": "markdown",
      "source": [
        "F1 Score\n",
        "It is the harmonic mean of Precision and recall"
      ],
      "metadata": {
        "id": "H1DskO-4Nctd"
      }
    },
    {
      "cell_type": "code",
      "source": [
        "from sklearn.metrics import f1_score\n",
        "print(\"F1 Score: \",f1_score(y_test, y_pred))"
      ],
      "metadata": {
        "colab": {
          "base_uri": "https://localhost:8080/"
        },
        "id": "3CY7-u1TNb_K",
        "outputId": "5145e182-ad80-4841-b3c1-a8ea822297ff"
      },
      "execution_count": 27,
      "outputs": [
        {
          "output_type": "stream",
          "name": "stdout",
          "text": [
            "F1 Score:  0.3820224719101123\n"
          ]
        }
      ]
    },
    {
      "cell_type": "markdown",
      "source": [
        "**Area Under the Curve (Reciever Operating Characterstics)**"
      ],
      "metadata": {
        "id": "XIid9qPTOpT4"
      }
    },
    {
      "cell_type": "code",
      "source": [
        "from sklearn.metrics import plot_roc_curve\n",
        "\n",
        "plot_roc_curve(mlp, X_test, y_test)"
      ],
      "metadata": {
        "colab": {
          "base_uri": "https://localhost:8080/",
          "height": 296
        },
        "id": "DpY65lLhOl3n",
        "outputId": "4b07190c-f6f3-4862-c622-e248fcc43850"
      },
      "execution_count": 28,
      "outputs": [
        {
          "output_type": "execute_result",
          "data": {
            "text/plain": [
              "<sklearn.metrics._plot.roc_curve.RocCurveDisplay at 0x7fb1ab136d00>"
            ]
          },
          "metadata": {},
          "execution_count": 28
        },
        {
          "output_type": "display_data",
          "data": {
            "text/plain": [
              "<Figure size 432x288 with 1 Axes>"
            ],
            "image/png": "[encoded data removed]"
          },
          "metadata": {
            "needs_background": "light"
          }
        }
      ]
    },
    {
      "cell_type": "markdown",
      "source": [
        "Regression matrics"
      ],
      "metadata": {
        "id": "O759TXoDPXBg"
      }
    },
    {
      "cell_type": "code",
      "source": [
        "wine = pd.read_csv(\"https://raw.githubusercontent.com/dphi-official/ML_Models/master/Performance_Evaluation/winequality.csv\", sep=\";\")\n",
        "wine.head()"
      ],
      "metadata": {
        "id": "fKsxAJdyPGt8",
        "colab": {
          "base_uri": "https://localhost:8080/",
          "height": 305
        },
        "outputId": "8a9c0184-3bc2-4961-a030-6a5c0b00a4b6"
      },
      "execution_count": 29,
      "outputs": [
        {
          "output_type": "execute_result",
          "data": {
            "text/plain": [
              "   fixed acidity  volatile acidity  citric acid  residual sugar  chlorides  \\\n",
              "0            7.0              0.27         0.36            20.7      0.045   \n",
              "1            6.3              0.30         0.34             1.6      0.049   \n",
              "2            8.1              0.28         0.40             6.9      0.050   \n",
              "3            7.2              0.23         0.32             8.5      0.058   \n",
              "4            7.2              0.23         0.32             8.5      0.058   \n",
              "\n",
              "   free sulfur dioxide  total sulfur dioxide  density    pH  sulphates  \\\n",
              "0                 45.0                 170.0   1.0010  3.00       0.45   \n",
              "1                 14.0                 132.0   0.9940  3.30       0.49   \n",
              "2                 30.0                  97.0   0.9951  3.26       0.44   \n",
              "3                 47.0                 186.0   0.9956  3.19       0.40   \n",
              "4                 47.0                 186.0   0.9956  3.19       0.40   \n",
              "\n",
              "   alcohol  quality  \n",
              "0      8.8        6  \n",
              "1      9.5        6  \n",
              "2     10.1        6  \n",
              "3      9.9        6  \n",
              "4      9.9        6  "
            ],
            "text/html": [
              "\n",
              "  <div id=\"df-a305513e-deae-422c-b899-5ed3c3844034\">\n",
              "    <div class=\"colab-df-container\">\n",
              "      <div>\n",
              "<style scoped>\n",
              "    .dataframe tbody tr th:only-of-type {\n",
              "        vertical-align: middle;\n",
              "    }\n",
              "\n",
              "    .dataframe tbody tr th {\n",
              "        vertical-align: top;\n",
              "    }\n",
              "\n",
              "    .dataframe thead th {\n",
              "        text-align: right;\n",
              "    }\n",
              "</style>\n",
              "<table border=\"1\" class=\"dataframe\">\n",
              "  <thead>\n",
              "    <tr style=\"text-align: right;\">\n",
              "      <th></th>\n",
              "      <th>fixed acidity</th>\n",
              "      <th>volatile acidity</th>\n",
              "      <th>citric acid</th>\n",
              "      <th>residual sugar</th>\n",
              "      <th>chlorides</th>\n",
              "      <th>free sulfur dioxide</th>\n",
              "      <th>total sulfur dioxide</th>\n",
              "      <th>density</th>\n",
              "      <th>pH</th>\n",
              "      <th>sulphates</th>\n",
              "      <th>alcohol</th>\n",
              "      <th>quality</th>\n",
              "    </tr>\n",
              "  </thead>\n",
              "  <tbody>\n",
              "    <tr>\n",
              "      <th>0</th>\n",
              "      <td>7.0</td>\n",
              "      <td>0.27</td>\n",
              "      <td>0.36</td>\n",
              "      <td>20.7</td>\n",
              "      <td>0.045</td>\n",
              "      <td>45.0</td>\n",
              "      <td>170.0</td>\n",
              "      <td>1.0010</td>\n",
              "      <td>3.00</td>\n",
              "      <td>0.45</td>\n",
              "      <td>8.8</td>\n",
              "      <td>6</td>\n",
              "    </tr>\n",
              "    <tr>\n",
              "      <th>1</th>\n",
              "      <td>6.3</td>\n",
              "      <td>0.30</td>\n",
              "      <td>0.34</td>\n",
              "      <td>1.6</td>\n",
              "      <td>0.049</td>\n",
              "      <td>14.0</td>\n",
              "      <td>132.0</td>\n",
              "      <td>0.9940</td>\n",
              "      <td>3.30</td>\n",
              "      <td>0.49</td>\n",
              "      <td>9.5</td>\n",
              "      <td>6</td>\n",
              "    </tr>\n",
              "    <tr>\n",
              "      <th>2</th>\n",
              "      <td>8.1</td>\n",
              "      <td>0.28</td>\n",
              "      <td>0.40</td>\n",
              "      <td>6.9</td>\n",
              "      <td>0.050</td>\n",
              "      <td>30.0</td>\n",
              "      <td>97.0</td>\n",
              "      <td>0.9951</td>\n",
              "      <td>3.26</td>\n",
              "      <td>0.44</td>\n",
              "      <td>10.1</td>\n",
              "      <td>6</td>\n",
              "    </tr>\n",
              "    <tr>\n",
              "      <th>3</th>\n",
              "      <td>7.2</td>\n",
              "      <td>0.23</td>\n",
              "      <td>0.32</td>\n",
              "      <td>8.5</td>\n",
              "      <td>0.058</td>\n",
              "      <td>47.0</td>\n",
              "      <td>186.0</td>\n",
              "      <td>0.9956</td>\n",
              "      <td>3.19</td>\n",
              "      <td>0.40</td>\n",
              "      <td>9.9</td>\n",
              "      <td>6</td>\n",
              "    </tr>\n",
              "    <tr>\n",
              "      <th>4</th>\n",
              "      <td>7.2</td>\n",
              "      <td>0.23</td>\n",
              "      <td>0.32</td>\n",
              "      <td>8.5</td>\n",
              "      <td>0.058</td>\n",
              "      <td>47.0</td>\n",
              "      <td>186.0</td>\n",
              "      <td>0.9956</td>\n",
              "      <td>3.19</td>\n",
              "      <td>0.40</td>\n",
              "      <td>9.9</td>\n",
              "      <td>6</td>\n",
              "    </tr>\n",
              "  </tbody>\n",
              "</table>\n",
              "</div>\n",
              "      <button class=\"colab-df-convert\" onclick=\"convertToInteractive('df-a305513e-deae-422c-b899-5ed3c3844034')\"\n",
              "              title=\"Convert this dataframe to an interactive table.\"\n",
              "              style=\"display:none;\">\n",
              "        \n",
              "  <svg xmlns=\"http://www.w3.org/2000/svg\" height=\"24px\"viewBox=\"0 0 24 24\"\n",
              "       width=\"24px\">\n",
              "    <path d=\"M0 0h24v24H0V0z\" fill=\"none\"/>\n",
              "    <path d=\"M18.56 5.44l.94 2.06.94-2.06 2.06-.94-2.06-.94-.94-2.06-.94 2.06-2.06.94zm-11 1L8.5 8.5l.94-2.06 2.06-.94-2.06-.94L8.5 2.5l-.94 2.06-2.06.94zm10 10l.94 2.06.94-2.06 2.06-.94-2.06-.94-.94-2.06-.94 2.06-2.06.94z\"/><path d=\"M17.41 7.96l-1.37-1.37c-.4-.4-.92-.59-1.43-.59-.52 0-1.04.2-1.43.59L10.3 9.45l-7.72 7.72c-.78.78-.78 2.05 0 2.83L4 21.41c.39.39.9.59 1.41.59.51 0 1.02-.2 1.41-.59l7.78-7.78 2.81-2.81c.8-.78.8-2.07 0-2.86zM5.41 20L4 18.59l7.72-7.72 1.47 1.35L5.41 20z\"/>\n",
              "  </svg>\n",
              "      </button>\n",
              "      \n",
              "  <style>\n",
              "    .colab-df-container {\n",
              "      display:flex;\n",
              "      flex-wrap:wrap;\n",
              "      gap: 12px;\n",
              "    }\n",
              "\n",
              "    .colab-df-convert {\n",
              "      background-color: #E8F0FE;\n",
              "      border: none;\n",
              "      border-radius: 50%;\n",
              "      cursor: pointer;\n",
              "      display: none;\n",
              "      fill: #1967D2;\n",
              "      height: 32px;\n",
              "      padding: 0 0 0 0;\n",
              "      width: 32px;\n",
              "    }\n",
              "\n",
              "    .colab-df-convert:hover {\n",
              "      background-color: #E2EBFA;\n",
              "      box-shadow: 0px 1px 2px rgba(60, 64, 67, 0.3), 0px 1px 3px 1px rgba(60, 64, 67, 0.15);\n",
              "      fill: #174EA6;\n",
              "    }\n",
              "\n",
              "    [theme=dark] .colab-df-convert {\n",
              "      background-color: #3B4455;\n",
              "      fill: #D2E3FC;\n",
              "    }\n",
              "\n",
              "    [theme=dark] .colab-df-convert:hover {\n",
              "      background-color: #434B5C;\n",
              "      box-shadow: 0px 1px 3px 1px rgba(0, 0, 0, 0.15);\n",
              "      filter: drop-shadow(0px 1px 2px rgba(0, 0, 0, 0.3));\n",
              "      fill: #FFFFFF;\n",
              "    }\n",
              "  </style>\n",
              "\n",
              "      <script>\n",
              "        const buttonEl =\n",
              "          document.querySelector('#df-a305513e-deae-422c-b899-5ed3c3844034 button.colab-df-convert');\n",
              "        buttonEl.style.display =\n",
              "          google.colab.kernel.accessAllowed ? 'block' : 'none';\n",
              "\n",
              "        async function convertToInteractive(key) {\n",
              "          const element = document.querySelector('#df-a305513e-deae-422c-b899-5ed3c3844034');\n",
              "          const dataTable =\n",
              "            await google.colab.kernel.invokeFunction('convertToInteractive',\n",
              "                                                     [key], {});\n",
              "          if (!dataTable) return;\n",
              "\n",
              "          const docLinkHtml = 'Like what you see? Visit the ' +\n",
              "            '<a target=\"_blank\" href=https://colab.research.google.com/notebooks/data_table.ipynb>data table notebook</a>'\n",
              "            + ' to learn more about interactive tables.';\n",
              "          element.innerHTML = '';\n",
              "          dataTable['output_type'] = 'display_data';\n",
              "          await google.colab.output.renderOutput(dataTable, element);\n",
              "          const docLink = document.createElement('div');\n",
              "          docLink.innerHTML = docLinkHtml;\n",
              "          element.appendChild(docLink);\n",
              "        }\n",
              "      </script>\n",
              "    </div>\n",
              "  </div>\n",
              "  "
            ]
          },
          "metadata": {},
          "execution_count": 29
        }
      ]
    },
    {
      "cell_type": "markdown",
      "source": [
        "Separate input and output variables"
      ],
      "metadata": {
        "id": "XJAhiCMhWlrL"
      }
    },
    {
      "cell_type": "code",
      "source": [
        "X = wine.drop('quality', axis= 1)\n",
        "y = wine.quality"
      ],
      "metadata": {
        "id": "HBHu_yCDWjlZ"
      },
      "execution_count": 30,
      "outputs": []
    },
    {
      "cell_type": "markdown",
      "source": [
        "Split into training and testing (80:20)"
      ],
      "metadata": {
        "id": "WOoDeoEOW0xu"
      }
    },
    {
      "cell_type": "code",
      "source": [
        "from sklearn.model_selection import train_test_split\n",
        "x_train, x_test, y_train, y_test = train_test_split(X, y, test_size = 0.2, random_state=3)"
      ],
      "metadata": {
        "id": "wBmJlOQJWWL6"
      },
      "execution_count": 31,
      "outputs": []
    },
    {
      "cell_type": "code",
      "source": [
        "from sklearn.linear_model import LinearRegression\n",
        "\n",
        "lr = LinearRegression()\n",
        "lr.fit(x_train, y_train)\n",
        "\n",
        "y_pred = lr.predict(x_test)\n",
        "y_pred[:10]"
      ],
      "metadata": {
        "id": "JqccvSyNXXOI",
        "colab": {
          "base_uri": "https://localhost:8080/"
        },
        "outputId": "e1beff4e-2b2a-40a0-d74a-6ec9e71d385e"
      },
      "execution_count": 32,
      "outputs": [
        {
          "output_type": "execute_result",
          "data": {
            "text/plain": [
              "array([5.44455619, 5.57868309, 5.99091469, 5.19864346, 6.0666099 ,\n",
              "       5.01639077, 5.68416174, 6.26611011, 5.97010538, 5.65519351])"
            ]
          },
          "metadata": {},
          "execution_count": 32
        }
      ]
    },
    {
      "cell_type": "markdown",
      "source": [
        "Performance Measurement\n",
        "1. Mean Absolute Error (MAE)\n",
        "2. Mean Squrred Error (MSE)\n",
        "3. Root Mean Squared Error (RMSE)"
      ],
      "metadata": {
        "id": "xnFWnaOqaKYT"
      }
    },
    {
      "cell_type": "code",
      "source": [
        "from sklearn.metrics import mean_absolute_error, mean_squared_error\n",
        "\n",
        "print(\"MAE: \", mean_absolute_error(y_test, y_pred))\n",
        "print(\"MSE: \", mean_squared_error(y_test, y_pred))\n",
        "print(\"MAE: \", np.sqrt(mean_squared_error(y_test, y_pred)))"
      ],
      "metadata": {
        "colab": {
          "base_uri": "https://localhost:8080/"
        },
        "id": "hIW6WJyFaIwy",
        "outputId": "ab07f96f-abb4-4980-eb13-185a1769410c"
      },
      "execution_count": 33,
      "outputs": [
        {
          "output_type": "stream",
          "name": "stdout",
          "text": [
            "MAE:  0.597235855877647\n",
            "MSE:  0.5906658099548086\n",
            "MAE:  0.7685478579469261\n"
          ]
        }
      ]
    },
    {
      "cell_type": "markdown",
      "source": [
        "4. R Squared\n",
        "<br> The metric helps us to compare our current model with a constant baseline and tells us how much our model is better"
      ],
      "metadata": {
        "id": "Zi-Uv3GqbldE"
      }
    },
    {
      "cell_type": "code",
      "source": [
        "from sklearn.metrics import r2_score\n",
        "r2_score(y_test, y_pred)"
      ],
      "metadata": {
        "colab": {
          "base_uri": "https://localhost:8080/"
        },
        "id": "3utSGYx3bvpg",
        "outputId": "cde969f0-8681-4576-94f5-ef9eb201beab"
      },
      "execution_count": 34,
      "outputs": [
        {
          "output_type": "execute_result",
          "data": {
            "text/plain": [
              "0.2832037191111012"
            ]
          },
          "metadata": {},
          "execution_count": 34
        }
      ]
    },
    {
      "cell_type": "markdown",
      "source": [
        "**Cross Validation**\n",
        "<br>\n",
        "Usually, our data is divided into Train and Test Sets. The Train set is further divided into Train and Validation set.\n",
        "\n",
        "The Validation Set helps us in selecting good parameters/tune the parameters for our model."
      ],
      "metadata": {
        "id": "zbbI814QcAdR"
      }
    },
    {
      "cell_type": "code",
      "source": [
        "X =  diabetes_data.drop('diabetes', axis =1)\n",
        "y = diabetes_data.diabetes"
      ],
      "metadata": {
        "id": "_QSIpzWDcTid"
      },
      "execution_count": 35,
      "outputs": []
    },
    {
      "cell_type": "markdown",
      "source": [
        "K-Fold Cross validation"
      ],
      "metadata": {
        "id": "bB5JRHNIcvwy"
      }
    },
    {
      "cell_type": "code",
      "source": [
        "from sklearn.model_selection import cross_validate"
      ],
      "metadata": {
        "id": "E_U2z8HScrSY"
      },
      "execution_count": 36,
      "outputs": []
    },
    {
      "cell_type": "markdown",
      "source": [
        "We can also import cross_val_score from the same library, but it only allows a single scorer to be implemented. So we are using cross_validate"
      ],
      "metadata": {
        "id": "tYBtDyB4dkH0"
      }
    },
    {
      "cell_type": "code",
      "source": [
        "cv_results = cross_validate(mlp, X, y, cv=10, scoring = [\"accuracy\", \"precision\", \"recall\"])\n",
        "cv_results"
      ],
      "metadata": {
        "colab": {
          "base_uri": "https://localhost:8080/"
        },
        "id": "kd2LeIB6dm-F",
        "outputId": "2aa88864-62f0-4b7c-fbb2-e54464e7b3cf"
      },
      "execution_count": 37,
      "outputs": [
        {
          "output_type": "execute_result",
          "data": {
            "text/plain": [
              "{'fit_time': array([0.64785242, 0.6425643 , 0.85242319, 0.46745443, 0.47395873,\n",
              "        0.62138653, 0.3837204 , 0.69166589, 0.58224082, 0.73282909]),\n",
              " 'score_time': array([0.00654006, 0.00538182, 0.00535583, 0.0054965 , 0.00530505,\n",
              "        0.00526404, 0.00586057, 0.00535631, 0.00539851, 0.00539875]),\n",
              " 'test_accuracy': array([0.67532468, 0.72727273, 0.66233766, 0.71428571, 0.74025974,\n",
              "        0.72727273, 0.75324675, 0.68831169, 0.72368421, 0.71052632]),\n",
              " 'test_precision': array([0.53333333, 0.66666667, 0.54545455, 0.59259259, 0.73333333,\n",
              "        1.        , 0.83333333, 0.55555556, 0.59259259, 0.66666667]),\n",
              " 'test_recall': array([0.59259259, 0.44444444, 0.22222222, 0.59259259, 0.40740741,\n",
              "        0.22222222, 0.37037037, 0.55555556, 0.61538462, 0.30769231])}"
            ]
          },
          "metadata": {},
          "execution_count": 37
        }
      ]
    },
    {
      "cell_type": "markdown",
      "source": [
        "cv=10 is provided, which means we are performing 10 fold cross validation"
      ],
      "metadata": {
        "id": "Em5cwxbBegNP"
      }
    },
    {
      "cell_type": "code",
      "source": [
        "print(\"Accuracy: \", cv_results['test_accuracy'].mean())\n",
        "print(\"Precision: \", cv_results['test_precision'].mean())\n",
        "print(\"Recall: \", cv_results['test_recall'].mean())"
      ],
      "metadata": {
        "colab": {
          "base_uri": "https://localhost:8080/"
        },
        "id": "2MlFO33qefii",
        "outputId": "d097462e-e5d7-4088-8bd1-66e500004e68"
      },
      "execution_count": 38,
      "outputs": [
        {
          "output_type": "stream",
          "name": "stdout",
          "text": [
            "Accuracy:  0.7122522214627478\n",
            "Precision:  0.6719528619528619\n",
            "Recall:  0.433048433048433\n"
          ]
        }
      ]
    },
    {
      "cell_type": "markdown",
      "source": [
        "For all Valid scoring options"
      ],
      "metadata": {
        "id": "2ll47U5KfyO5"
      }
    },
    {
      "cell_type": "code",
      "source": [
        "import sklearn.metrics as m\n",
        "m.SCORERS.keys()"
      ],
      "metadata": {
        "colab": {
          "base_uri": "https://localhost:8080/"
        },
        "id": "MfwLRO18f2JR",
        "outputId": "11479ecc-b191-415d-923d-6829e4a1e08b"
      },
      "execution_count": 39,
      "outputs": [
        {
          "output_type": "execute_result",
          "data": {
            "text/plain": [
              "dict_keys(['explained_variance', 'r2', 'max_error', 'neg_median_absolute_error', 'neg_mean_absolute_error', 'neg_mean_absolute_percentage_error', 'neg_mean_squared_error', 'neg_mean_squared_log_error', 'neg_root_mean_squared_error', 'neg_mean_poisson_deviance', 'neg_mean_gamma_deviance', 'accuracy', 'top_k_accuracy', 'roc_auc', 'roc_auc_ovr', 'roc_auc_ovo', 'roc_auc_ovr_weighted', 'roc_auc_ovo_weighted', 'balanced_accuracy', 'average_precision', 'neg_log_loss', 'neg_brier_score', 'adjusted_rand_score', 'rand_score', 'homogeneity_score', 'completeness_score', 'v_measure_score', 'mutual_info_score', 'adjusted_mutual_info_score', 'normalized_mutual_info_score', 'fowlkes_mallows_score', 'precision', 'precision_macro', 'precision_micro', 'precision_samples', 'precision_weighted', 'recall', 'recall_macro', 'recall_micro', 'recall_samples', 'recall_weighted', 'f1', 'f1_macro', 'f1_micro', 'f1_samples', 'f1_weighted', 'jaccard', 'jaccard_macro', 'jaccard_micro', 'jaccard_samples', 'jaccard_weighted'])"
            ]
          },
          "metadata": {},
          "execution_count": 39
        }
      ]
    },
    {
      "cell_type": "markdown",
      "source": [
        "Leave one out cross validation"
      ],
      "metadata": {
        "id": "EAKhb_mSgIIC"
      }
    },
    {
      "cell_type": "markdown",
      "source": [
        "*This code takes a long time to run, you can either skip running this part and directly just see the printed results, or wait for 10-15 mins for this to run*"
      ],
      "metadata": {
        "id": "4fuJEHWTg8wP"
      }
    },
    {
      "cell_type": "code",
      "source": [
        "from sklearn.model_selection import LeaveOneOut"
      ],
      "metadata": {
        "id": "_HYzTupwgRg8"
      },
      "execution_count": 40,
      "outputs": []
    },
    {
      "cell_type": "code",
      "source": [
        "cv_results = cross_validate(mlp, X, y,\n",
        "cv= LeaveOneOut(), scoring=['accuracy'])\n",
        "cv_results"
      ],
      "metadata": {
        "colab": {
          "base_uri": "https://localhost:8080/"
        },
        "id": "S_t7bse6gaFw",
        "outputId": "90580f5a-ba4c-48f7-8ad6-16e7d4365f08"
      },
      "execution_count": 41,
      "outputs": [
        {
          "output_type": "execute_result",
          "data": {
            "text/plain": [
              "{'fit_time': array([0.92377472, 0.26913261, 0.55466533, 0.46903777, 0.80789089,\n",
              "        0.68469286, 0.63487959, 0.77598596, 1.2332027 , 0.58431721,\n",
              "        0.6988256 , 0.49234986, 0.3691895 , 0.35853744, 0.43439436,\n",
              "        1.03939795, 0.47053742, 0.89037037, 0.46552134, 0.91846108,\n",
              "        0.80449557, 0.43247914, 0.47329211, 0.6549387 , 0.65237308,\n",
              "        0.4820137 , 0.56345463, 0.67209959, 0.43492579, 0.63997197,\n",
              "        0.52840519, 0.86258793, 0.24842858, 0.57163429, 0.82631922,\n",
              "        0.48201466, 0.58468342, 0.64381337, 0.55921268, 0.48976612,\n",
              "        0.36906815, 0.45707393, 0.74247599, 0.63909626, 1.06585217,\n",
              "        0.72547102, 0.44718957, 0.55651355, 0.41164088, 0.44064021,\n",
              "        0.71101665, 0.63188982, 0.38710427, 0.48934555, 0.41187   ,\n",
              "        0.56705976, 0.85405874, 0.33804941, 0.65710902, 0.62137079,\n",
              "        0.77028871, 0.60543823, 0.64072251, 0.57342291, 0.48396802,\n",
              "        1.17834377, 0.53597331, 0.53156495, 0.50117564, 0.42338991,\n",
              "        0.93468618, 0.67919397, 0.40557885, 0.71793532, 0.25927162,\n",
              "        0.3575623 , 0.74354124, 0.82776737, 0.36945796, 0.41841769,\n",
              "        1.02041984, 0.81087732, 0.67528915, 0.56949043, 0.65163708,\n",
              "        0.66596222, 0.71766663, 0.55263901, 0.68495154, 0.37335086,\n",
              "        0.70081091, 0.2984271 , 0.68202186, 0.57912683, 0.8774755 ,\n",
              "        1.39398193, 1.76147318, 1.41627383, 1.39078593, 0.9050951 ,\n",
              "        0.42909598, 0.44036889, 0.53636813, 0.7495122 , 0.63602066,\n",
              "        0.63759494, 0.67673826, 1.22820592, 0.39430594, 0.68602467,\n",
              "        0.75758266, 0.53065658, 0.63687348, 0.26207113, 0.41000938,\n",
              "        0.49204206, 0.43736911, 0.92777801, 0.55734515, 0.69287872,\n",
              "        0.37198544, 0.44093037, 1.22328019, 1.87760019, 1.19045019,\n",
              "        0.61332011, 0.91334057, 1.07472634, 0.4020133 , 0.84152746,\n",
              "        0.46616054, 0.83543682, 0.64824796, 0.52527976, 0.539042  ,\n",
              "        0.61868119, 0.31387472, 0.69354534, 0.55967569, 0.57512355,\n",
              "        0.61730886, 0.8713274 , 0.70221424, 0.43693185, 0.44235826,\n",
              "        1.133039  , 0.40609312, 1.17833066, 0.33078814, 0.41868925,\n",
              "        0.69361234, 0.92424202, 0.52854919, 0.70118594, 0.76741219,\n",
              "        0.53059125, 0.51084948, 0.88904262, 0.48181105, 0.27639008,\n",
              "        0.48851418, 0.26545429, 0.59096313, 0.64127731, 0.33117175,\n",
              "        0.41709995, 0.29568505, 0.37404919, 0.69305849, 0.38977814,\n",
              "        0.20699453, 0.55230355, 0.7404871 , 0.58414173, 0.31001854,\n",
              "        0.7743628 , 0.37926483, 0.50654197, 0.64678288, 0.75448918,\n",
              "        0.55022836, 0.37348199, 0.49847412, 0.63361001, 0.50197434,\n",
              "        0.53000927, 0.52741599, 0.61339617, 0.57352901, 0.4133625 ,\n",
              "        0.65065384, 0.55878806, 0.57506633, 0.84402537, 0.75627303,\n",
              "        0.39009166, 0.38370752, 0.39678645, 0.62584472, 0.41996622,\n",
              "        0.31837988, 0.57441568, 0.33033991, 0.47484159, 0.46749115,\n",
              "        0.91204715, 0.59180641, 0.70278835, 0.50231457, 0.71050262,\n",
              "        0.48814344, 0.45656896, 0.26219535, 0.72427487, 0.31506252,\n",
              "        0.70631361, 0.31675124, 0.38757515, 0.36565375, 0.30157089,\n",
              "        0.50551462, 0.59256458, 0.65776587, 0.31950426, 0.44312763,\n",
              "        0.41273785, 0.55881071, 0.31649232, 0.45876741, 0.94019341,\n",
              "        0.47496009, 0.94496965, 0.64122105, 0.412992  , 0.4404304 ,\n",
              "        0.34118629, 0.58680749, 0.4576087 , 0.37159967, 0.62699413,\n",
              "        0.37980461, 0.35040641, 0.7113328 , 0.44503641, 0.50169611,\n",
              "        0.54033828, 0.31588292, 0.49548101, 0.3312664 , 0.5043788 ,\n",
              "        0.53616333, 0.4709692 , 0.51618171, 0.64321446, 0.49004054,\n",
              "        0.66590691, 0.33016419, 0.33056903, 0.65764546, 0.34188843,\n",
              "        0.68464565, 0.33435965, 0.54495215, 0.46672416, 0.5658412 ,\n",
              "        0.31891108, 0.49254656, 0.3195219 , 0.6123805 , 0.44454741,\n",
              "        0.78888559, 0.57982421, 0.34203982, 0.70342684, 0.62282395,\n",
              "        0.59454608, 0.45854688, 0.64551282, 0.54068446, 0.43074179,\n",
              "        0.42542648, 0.43033409, 0.24926972, 0.40210938, 0.48631358,\n",
              "        0.83548093, 0.95576072, 0.69728708, 0.45384002, 0.36021662,\n",
              "        0.84805489, 0.38605523, 0.49425745, 0.41121244, 0.25325298,\n",
              "        0.49826622, 0.70017219, 0.29224491, 0.6856513 , 0.84281135,\n",
              "        0.89818525, 0.54700446, 0.59413481, 0.89225936, 0.89066792,\n",
              "        0.41020727, 0.46762228, 0.60351515, 0.47901964, 0.57655358,\n",
              "        0.48764157, 0.65881968, 0.62886882, 0.44187808, 0.67448831,\n",
              "        0.59238577, 0.63505125, 0.33007121, 0.62924767, 0.63305783,\n",
              "        0.37701321, 0.3742044 , 0.59367228, 0.3310523 , 0.56076145,\n",
              "        0.30752563, 0.85979366, 0.92768717, 0.55411196, 0.72304296,\n",
              "        0.65733504, 0.60602713, 0.50174379, 0.39112282, 0.53981352,\n",
              "        0.63544726, 0.70726109, 0.52519202, 0.45551181, 0.75455308,\n",
              "        0.40486264, 0.59841132, 0.44072366, 0.62328291, 0.88203764,\n",
              "        0.45456958, 0.51148796, 0.34419632, 0.38166785, 0.95965481,\n",
              "        0.50535941, 0.65435338, 0.80134153, 0.3223815 , 0.3322556 ,\n",
              "        0.60737848, 0.55605435, 0.67646265, 0.62336612, 0.50182462,\n",
              "        0.47193527, 0.30576634, 0.48339128, 0.37186098, 0.32298112,\n",
              "        0.86610937, 0.78963232, 0.45945024, 0.54838443, 0.54066157,\n",
              "        0.655334  , 0.39004898, 0.86376524, 0.88869071, 0.57192183,\n",
              "        0.81727552, 0.67695308, 0.88002896, 0.64998484, 0.29277253,\n",
              "        0.83747649, 0.28431916, 0.85277152, 0.59581351, 0.93070364,\n",
              "        0.8615799 , 0.52465057, 0.39404106, 0.44988346, 0.42196798,\n",
              "        0.64769888, 0.43898487, 0.56545901, 0.50959134, 0.50214982,\n",
              "        0.53846407, 0.68978453, 0.52408719, 0.85256982, 0.59712672,\n",
              "        0.63003588, 0.41075039, 0.60963845, 0.46173096, 0.63502932,\n",
              "        0.45325089, 0.5762465 , 0.47802377, 0.6985178 , 0.75333738,\n",
              "        0.56826711, 0.71800375, 0.72821879, 0.88740349, 0.98211837,\n",
              "        0.5389204 , 0.55214381, 0.57023096, 0.38413954, 0.54615736,\n",
              "        0.76452804, 0.22404695, 0.71489358, 0.7206378 , 1.17768526,\n",
              "        0.57203341, 0.75991845, 0.51307011, 0.55979156, 0.42587686,\n",
              "        0.47641993, 0.66822863, 0.7859118 , 0.46938515, 0.37369823,\n",
              "        0.44723988, 0.30526972, 0.29499125, 0.79722428, 0.30249906,\n",
              "        0.88512564, 0.72879291, 0.64970422, 0.40966511, 0.52130651,\n",
              "        0.59422159, 0.66487575, 0.44706368, 0.90230942, 0.40717483,\n",
              "        0.49049187, 0.37787962, 0.48792386, 0.42814207, 0.53268576,\n",
              "        0.60960841, 0.30092192, 0.521487  , 0.44839597, 0.78256917,\n",
              "        0.41929555, 0.62438083, 0.8921535 , 0.90120602, 0.4822433 ,\n",
              "        0.85401058, 0.47930789, 0.41283941, 0.32655978, 0.50003123,\n",
              "        0.55285001, 0.43021822, 0.43557334, 0.6806848 , 0.31205106,\n",
              "        0.38949203, 0.62460923, 0.48749828, 0.68531537, 0.60668206,\n",
              "        0.3523798 , 0.37956882, 0.46563196, 0.44550776, 0.47718167,\n",
              "        0.38473487, 0.60126138, 0.74771357, 0.47362685, 0.86753654,\n",
              "        1.00201607, 1.34026527, 2.15587687, 1.55851388, 0.98006248,\n",
              "        0.68827462, 0.649786  , 0.58254361, 0.25552297, 0.36074758,\n",
              "        0.44061208, 0.36510062, 0.61898136, 0.60873842, 0.50870156,\n",
              "        0.66460943, 0.50375938, 0.4758184 , 0.75525928, 0.89619398,\n",
              "        0.59826446, 0.62466764, 0.60146427, 0.77611613, 0.42343664,\n",
              "        1.03072453, 0.51294541, 0.50452948, 0.78839517, 0.92007089,\n",
              "        0.66829777, 0.72960973, 0.68064952, 0.41841316, 0.53609061,\n",
              "        1.12353539, 0.80335474, 0.69589043, 0.5099709 , 0.47674632,\n",
              "        0.68021989, 0.61899614, 0.77620173, 0.62661123, 0.44296265,\n",
              "        1.03058267, 0.52567577, 0.82073092, 0.87875223, 0.85611415,\n",
              "        0.37568855, 0.87649298, 0.68401194, 0.38676405, 0.60582995,\n",
              "        0.67393637, 0.3555696 , 0.43718243, 0.37659502, 1.06733632,\n",
              "        0.36678314, 1.10566616, 0.54579949, 0.66738033, 0.68499184,\n",
              "        0.40310764, 0.86026359, 0.75569224, 0.49446273, 0.46042395,\n",
              "        0.67478132, 0.66561365, 0.6931932 , 0.36304712, 0.33758378,\n",
              "        0.76053143, 0.77286625, 0.66303515, 0.51070404, 0.26901841,\n",
              "        0.663661  , 0.67616844, 0.70543933, 0.4227097 , 0.51601815,\n",
              "        0.57675862, 0.66485763, 0.95523095, 0.33102703, 0.61146283,\n",
              "        0.9346199 , 0.60059428, 0.84955764, 0.50124931, 0.60069585,\n",
              "        0.57203174, 0.51132321, 0.29583693, 0.44393373, 0.54633904,\n",
              "        0.53007174, 0.75988126, 0.47342134, 0.40562391, 0.41372466,\n",
              "        0.36241579, 0.41956758, 0.54588175, 0.28330326, 0.56253314,\n",
              "        0.4056356 , 0.59389257, 0.70918608, 0.54265308, 0.59143615,\n",
              "        0.55581403, 0.96033144, 0.45069933, 0.3437202 , 0.35039997,\n",
              "        0.64624047, 0.65020585, 0.67150784, 0.37093973, 0.52899694,\n",
              "        0.35910201, 0.53762817, 0.55461717, 0.87076521, 0.74049091,\n",
              "        0.52473474, 0.21663284, 0.38517404, 0.82539701, 0.3807683 ,\n",
              "        0.257658  , 0.47441745, 0.59430623, 0.6677146 , 0.48563051,\n",
              "        0.54635382, 0.66871524, 0.43712997, 0.64839029, 0.43309808,\n",
              "        0.82470202, 0.67034745, 0.49084401, 0.5944581 , 0.4317522 ,\n",
              "        0.68431401, 0.8259449 , 0.69147706, 0.60357499, 0.25345421,\n",
              "        0.9269824 , 0.49128437, 0.42370391, 0.47408295, 0.67532706,\n",
              "        0.50780225, 0.64409304, 0.39124322, 0.52576232, 0.38198853,\n",
              "        0.69718122, 0.52926207, 0.35255098, 0.60113907, 0.47460341,\n",
              "        0.3622129 , 0.92436194, 0.40696073, 0.35637164, 1.03870225,\n",
              "        0.79573035, 0.58198476, 0.37079144, 0.37096882, 0.52729321,\n",
              "        0.6190064 , 1.09494853, 0.48213387, 0.53926134, 0.63577509,\n",
              "        0.2855072 , 0.50873899, 0.86075187, 0.17384338, 0.75030828,\n",
              "        0.55852056, 0.97857308, 0.29645205, 0.50295138, 0.54421926,\n",
              "        0.4401896 , 0.7014792 , 0.54243231, 0.25622797, 0.61903596,\n",
              "        0.49596047, 0.74806976, 0.82747078, 0.93709302, 0.43281174,\n",
              "        0.41741991, 0.33878136, 1.05530667, 0.73063421, 0.26544714,\n",
              "        0.38644314, 0.55077052, 0.60045815, 0.43544102, 0.5557909 ,\n",
              "        0.66279626, 0.47067642, 1.06016684, 0.38717508, 0.23548722,\n",
              "        1.09883881, 0.34262681, 0.47301292, 0.24202466, 0.59218097,\n",
              "        0.46449804, 0.48076177, 0.15618277, 0.70550966, 0.49654198,\n",
              "        0.4857707 , 0.57481933, 0.32066846, 0.37118506, 0.53174257,\n",
              "        0.27500343, 0.73491454, 0.76754904, 0.42125797, 0.60404658,\n",
              "        0.61969447, 0.93465567, 0.43841338, 0.43425584, 0.39388585,\n",
              "        0.49275613, 0.58725715, 0.38805461, 0.76918173, 0.65728116,\n",
              "        0.92967844, 0.49565625, 0.56576967, 0.65184784, 0.59320998,\n",
              "        0.62587547, 0.43394256, 0.55282545, 0.63547611, 0.35681343,\n",
              "        0.40254259, 0.30274773, 0.99358869, 0.66006422, 0.42627144,\n",
              "        1.45574307, 0.36797166, 0.70982051, 0.22094321, 0.65383554,\n",
              "        0.66871786, 0.65312266, 0.49714327, 0.41312027, 0.22171998,\n",
              "        0.28657174, 1.03780317, 0.51055527]),\n",
              " 'score_time': array([0.0027616 , 0.00278568, 0.00274897, 0.00283027, 0.00283456,\n",
              "        0.00289512, 0.00278568, 0.00284767, 0.0029633 , 0.00272942,\n",
              "        0.00278974, 0.00276828, 0.00274134, 0.00277662, 0.00276875,\n",
              "        0.01061511, 0.00279593, 0.00280762, 0.00277328, 0.00281096,\n",
              "        0.00307965, 0.00275946, 0.00271225, 0.00277352, 0.00273991,\n",
              "        0.00311947, 0.00286889, 0.00277305, 0.0027976 , 0.00265884,\n",
              "        0.00268698, 0.00282645, 0.00282359, 0.00282264, 0.00285816,\n",
              "        0.00277901, 0.00270891, 0.00278044, 0.00272012, 0.00272226,\n",
              "        0.00276709, 0.00271273, 0.00280166, 0.00281143, 0.00307608,\n",
              "        0.00269198, 0.00270271, 0.00281119, 0.00268912, 0.00268626,\n",
              "        0.00272989, 0.00251794, 0.00271177, 0.00276089, 0.00292063,\n",
              "        0.00288677, 0.00274682, 0.00266504, 0.00267339, 0.00275779,\n",
              "        0.00284982, 0.00298595, 0.00271273, 0.00274467, 0.00266123,\n",
              "        0.00284457, 0.0026083 , 0.00258231, 0.00259495, 0.00273705,\n",
              "        0.00274944, 0.00267625, 0.00281644, 0.00306463, 0.00273204,\n",
              "        0.00275445, 0.00285435, 0.00278592, 0.00269341, 0.00268936,\n",
              "        0.00277162, 0.0027566 , 0.00272989, 0.00283432, 0.00295639,\n",
              "        0.0027051 , 0.002774  , 0.00273824, 0.00273585, 0.0027709 ,\n",
              "        0.00270605, 0.00268316, 0.00277257, 0.00276518, 0.00271869,\n",
              "        0.00606775, 0.0032258 , 0.00641751, 0.00520444, 0.00273395,\n",
              "        0.0027411 , 0.00299144, 0.00278163, 0.0027256 , 0.00266409,\n",
              "        0.0027411 , 0.00304747, 0.00268221, 0.00263691, 0.0026474 ,\n",
              "        0.00282049, 0.00269222, 0.00269508, 0.00274873, 0.00275302,\n",
              "        0.00266314, 0.00269461, 0.00278187, 0.00264478, 0.00268364,\n",
              "        0.00265145, 0.00271344, 0.00343323, 0.0026474 , 0.00266457,\n",
              "        0.00257492, 0.00267744, 0.00273108, 0.00275636, 0.00270581,\n",
              "        0.00278854, 0.00268912, 0.00284076, 0.00279117, 0.00274563,\n",
              "        0.00269747, 0.00273561, 0.00272679, 0.00273323, 0.00267386,\n",
              "        0.00266385, 0.0029459 , 0.002707  , 0.00272942, 0.00273967,\n",
              "        0.00281739, 0.00266361, 0.00277448, 0.00270844, 0.00274181,\n",
              "        0.00275636, 0.0027225 , 0.01217413, 0.00265312, 0.0027287 ,\n",
              "        0.00270057, 0.00273752, 0.00267458, 0.00262952, 0.002666  ,\n",
              "        0.00297403, 0.00278616, 0.00274563, 0.00270915, 0.00267601,\n",
              "        0.00278592, 0.00266981, 0.00267529, 0.00271964, 0.00274777,\n",
              "        0.00268602, 0.00276756, 0.00280666, 0.00269723, 0.00277758,\n",
              "        0.00270391, 0.00272298, 0.00272751, 0.00276685, 0.00289941,\n",
              "        0.0026567 , 0.00277781, 0.00882936, 0.00270343, 0.00276542,\n",
              "        0.00279951, 0.00272775, 0.00278878, 0.00277853, 0.00273871,\n",
              "        0.00285554, 0.00273609, 0.00268531, 0.00359011, 0.00277305,\n",
              "        0.00276327, 0.00271726, 0.0028336 , 0.00271082, 0.00270104,\n",
              "        0.00291109, 0.0061264 , 0.00270724, 0.00271225, 0.00289631,\n",
              "        0.00335598, 0.002666  , 0.00271153, 0.00272179, 0.00281453,\n",
              "        0.00267315, 0.0027287 , 0.00266337, 0.00269389, 0.00292277,\n",
              "        0.00273967, 0.00267839, 0.00273085, 0.00268912, 0.00272465,\n",
              "        0.00271773, 0.00269556, 0.00269628, 0.00259256, 0.00296116,\n",
              "        0.00280619, 0.00261068, 0.00263309, 0.00266862, 0.00280166,\n",
              "        0.00274706, 0.00266647, 0.00317764, 0.00261664, 0.00255537,\n",
              "        0.00266409, 0.00262451, 0.00248003, 0.00260377, 0.0027318 ,\n",
              "        0.00249457, 0.00282311, 0.00267267, 0.00271463, 0.0027051 ,\n",
              "        0.00301504, 0.00255942, 0.00261903, 0.00256896, 0.0026691 ,\n",
              "        0.00280666, 0.00274563, 0.00274968, 0.0027287 , 0.0026803 ,\n",
              "        0.00260878, 0.00265265, 0.00270867, 0.00274611, 0.00264239,\n",
              "        0.00256276, 0.0025959 , 0.00261188, 0.00263071, 0.0026896 ,\n",
              "        0.00268936, 0.00265074, 0.00266314, 0.00265646, 0.00267887,\n",
              "        0.002666  , 0.00269032, 0.00259113, 0.00277138, 0.00377083,\n",
              "        0.00270605, 0.00256324, 0.0025599 , 0.0028131 , 0.00275564,\n",
              "        0.00234866, 0.00251508, 0.00254846, 0.00253701, 0.00269198,\n",
              "        0.00268507, 0.00243759, 0.0025351 , 0.0025208 , 0.00256109,\n",
              "        0.00267053, 0.00258803, 0.00235391, 0.00254869, 0.00252962,\n",
              "        0.00286651, 0.00255704, 0.00257087, 0.00259066, 0.00257206,\n",
              "        0.00266576, 0.00280213, 0.00282383, 0.00255013, 0.00299668,\n",
              "        0.00254631, 0.00277615, 0.00278139, 0.00260162, 0.00261521,\n",
              "        0.00264406, 0.00264692, 0.00267076, 0.00274158, 0.00264502,\n",
              "        0.00263047, 0.00477099, 0.00277162, 0.00291634, 0.00270319,\n",
              "        0.00268173, 0.00269055, 0.00269532, 0.00259471, 0.0026598 ,\n",
              "        0.00271559, 0.00281739, 0.00270534, 0.00308943, 0.00260329,\n",
              "        0.0026505 , 0.00265431, 0.0027349 , 0.00285792, 0.00265169,\n",
              "        0.00269413, 0.00273514, 0.00266623, 0.00296378, 0.00263572,\n",
              "        0.00272632, 0.00262046, 0.00277019, 0.0027113 , 0.00265884,\n",
              "        0.00410771, 0.00265408, 0.00704098, 0.00273347, 0.00276232,\n",
              "        0.00264955, 0.00267172, 0.0027287 , 0.00267768, 0.00286913,\n",
              "        0.00264764, 0.00273299, 0.00274253, 0.0026381 , 0.00270438,\n",
              "        0.00285912, 0.00268483, 0.00269318, 0.00261545, 0.00269699,\n",
              "        0.00267124, 0.00269151, 0.00278878, 0.00291395, 0.00276303,\n",
              "        0.00284624, 0.00272727, 0.00269532, 0.00275803, 0.00268865,\n",
              "        0.00271368, 0.00263453, 0.00265861, 0.00271106, 0.00279784,\n",
              "        0.00372934, 0.00267196, 0.00303602, 0.00353813, 0.00273633,\n",
              "        0.00265718, 0.00266147, 0.00270104, 0.00277376, 0.00266004,\n",
              "        0.00261998, 0.00275421, 0.00456858, 0.00262952, 0.0027194 ,\n",
              "        0.00267649, 0.00266743, 0.00261378, 0.00266862, 0.00260615,\n",
              "        0.00265217, 0.00272155, 0.00275326, 0.00275278, 0.00297236,\n",
              "        0.00266576, 0.00280094, 0.00276637, 0.00273204, 0.00270677,\n",
              "        0.00267744, 0.00268078, 0.00268388, 0.00306869, 0.00270033,\n",
              "        0.00278974, 0.00278234, 0.00273871, 0.00275517, 0.00265503,\n",
              "        0.00268722, 0.00276136, 0.00269246, 0.00275588, 0.00325751,\n",
              "        0.00262785, 0.00271821, 0.00270438, 0.00275707, 0.00270176,\n",
              "        0.00299191, 0.00267696, 0.00278902, 0.00271606, 0.00267386,\n",
              "        0.00278044, 0.00269151, 0.00658631, 0.00270796, 0.00266695,\n",
              "        0.00272679, 0.00291848, 0.00275993, 0.0026648 , 0.00300598,\n",
              "        0.00312996, 0.00304651, 0.00301409, 0.00303674, 0.00334263,\n",
              "        0.00299478, 0.00306392, 0.00308061, 0.0029645 , 0.00306249,\n",
              "        0.00300407, 0.00310588, 0.00298834, 0.00302982, 0.00304413,\n",
              "        0.0030036 , 0.00316429, 0.00306392, 0.00303626, 0.00303006,\n",
              "        0.00323105, 0.00339723, 0.00302458, 0.00303674, 0.00318933,\n",
              "        0.00300431, 0.0031693 , 0.00326824, 0.00319529, 0.00321674,\n",
              "        0.00307226, 0.00305796, 0.00329185, 0.0032239 , 0.0032897 ,\n",
              "        0.00314426, 0.00437498, 0.00304294, 0.00301766, 0.00310445,\n",
              "        0.00303173, 0.0030458 , 0.00308061, 0.00660586, 0.00308919,\n",
              "        0.00312662, 0.00312805, 0.00325131, 0.00327802, 0.00330305,\n",
              "        0.00299811, 0.00308061, 0.00298691, 0.00300455, 0.00305676,\n",
              "        0.00302815, 0.00311446, 0.00300479, 0.00310445, 0.00325298,\n",
              "        0.00307012, 0.00311041, 0.00308156, 0.00304484, 0.00312495,\n",
              "        0.00305772, 0.00302362, 0.0030427 , 0.00400925, 0.00319982,\n",
              "        0.00308537, 0.00308442, 0.00318122, 0.0030694 , 0.00301361,\n",
              "        0.00306678, 0.00307894, 0.00317717, 0.00298095, 0.00292277,\n",
              "        0.0031321 , 0.00304413, 0.0031054 , 0.00324345, 0.00287724,\n",
              "        0.00303507, 0.00308037, 0.00315118, 0.0030241 , 0.00308704,\n",
              "        0.0030129 , 0.00311661, 0.0032084 , 0.00321221, 0.00295353,\n",
              "        0.00306773, 0.00296807, 0.00307536, 0.00303125, 0.00324178,\n",
              "        0.00299716, 0.00301123, 0.00303864, 0.00314808, 0.0031569 ,\n",
              "        0.00302362, 0.00304818, 0.00318384, 0.00304341, 0.00331855,\n",
              "        0.00299335, 0.00302434, 0.00298548, 0.00301123, 0.00307059,\n",
              "        0.00304818, 0.00298333, 0.00304937, 0.00300145, 0.00294828,\n",
              "        0.00302029, 0.00339651, 0.00302243, 0.00302458, 0.0030477 ,\n",
              "        0.0030241 , 0.00301838, 0.00312328, 0.00299454, 0.00310063,\n",
              "        0.00307941, 0.00298429, 0.00303435, 0.00309944, 0.00302601,\n",
              "        0.00309038, 0.00295091, 0.0029583 , 0.00302863, 0.00299573,\n",
              "        0.00303411, 0.00293326, 0.00298738, 0.00394201, 0.00311065,\n",
              "        0.00351644, 0.0030477 , 0.00300121, 0.00301933, 0.0030036 ,\n",
              "        0.00296307, 0.00302887, 0.00301886, 0.00295949, 0.00298929,\n",
              "        0.0029614 , 0.00301766, 0.00297236, 0.00316858, 0.00301933,\n",
              "        0.00308871, 0.00303245, 0.00297165, 0.00306773, 0.00303173,\n",
              "        0.00334883, 0.00302148, 0.00306153, 0.00317883, 0.00304604,\n",
              "        0.00299144, 0.00307226, 0.00309372, 0.00299716, 0.00300527,\n",
              "        0.0030055 , 0.00303936, 0.00292015, 0.00297046, 0.00296259,\n",
              "        0.00291944, 0.00300956, 0.00298071, 0.00304508, 0.00296664,\n",
              "        0.00314784, 0.00309968, 0.0030036 , 0.00300384, 0.00322556,\n",
              "        0.00316191, 0.00313878, 0.00310898, 0.00294328, 0.00287938,\n",
              "        0.002949  , 0.00298953, 0.00299668, 0.00304246, 0.00302601,\n",
              "        0.0029707 , 0.0030694 , 0.00294948, 0.00302148, 0.0032022 ,\n",
              "        0.00310063, 0.0029614 , 0.00316095, 0.00301456, 0.00307226,\n",
              "        0.00331998, 0.00319791, 0.00300598, 0.00310135, 0.00304675,\n",
              "        0.00322533, 0.00312853, 0.0030272 , 0.00309706, 0.00316691,\n",
              "        0.00305772, 0.00306654, 0.00306082, 0.00317478, 0.00313759,\n",
              "        0.00289893, 0.0031426 , 0.00308847, 0.00312257, 0.00313377,\n",
              "        0.00310779, 0.00329304, 0.00301409, 0.0030756 , 0.00302553,\n",
              "        0.00302386, 0.00319695, 0.00289702, 0.00335288, 0.00296617,\n",
              "        0.00297785, 0.0029974 , 0.00303292, 0.00313783, 0.00536895,\n",
              "        0.00303197, 0.00297213, 0.00317168, 0.00317025, 0.00296116,\n",
              "        0.00331521, 0.0029726 , 0.00310469, 0.0031085 , 0.00295067,\n",
              "        0.00299025, 0.00296402, 0.00296736, 0.00301671, 0.00302792,\n",
              "        0.00299144, 0.00298572, 0.00305772, 0.00300956, 0.00294304,\n",
              "        0.00311422, 0.00304127, 0.00301504, 0.0029366 , 0.0029459 ,\n",
              "        0.00300813, 0.00314379, 0.00295997, 0.00489044, 0.00507188,\n",
              "        0.00482583, 0.00484991, 0.00299501, 0.00303817, 0.00477195,\n",
              "        0.00487041, 0.00526476, 0.00306153, 0.0035131 , 0.00293064,\n",
              "        0.00342011, 0.00299573, 0.00305438, 0.00304723, 0.0029614 ,\n",
              "        0.0030272 , 0.00322843, 0.00314641, 0.00304055, 0.00324225,\n",
              "        0.00304103, 0.00307441, 0.00301647, 0.0031724 , 0.0029943 ,\n",
              "        0.00300455, 0.00301218, 0.00308394, 0.00315166, 0.00303316,\n",
              "        0.00311708, 0.00301266, 0.00306058, 0.00306082, 0.00296426,\n",
              "        0.00315332, 0.00299788, 0.00301862, 0.00297356, 0.00293207,\n",
              "        0.00313783, 0.00298882, 0.00298381, 0.00293612, 0.00276566,\n",
              "        0.00261855, 0.00255418, 0.00266647]),\n",
              " 'test_accuracy': array([1., 1., 1., 1., 1., 1., 0., 0., 1., 0., 1., 1., 1., 0., 1., 0., 0.,\n",
              "        0., 1., 0., 0., 1., 1., 0., 0., 0., 1., 1., 1., 1., 1., 1., 1., 1.,\n",
              "        1., 0., 0., 0., 0., 0., 0., 1., 1., 0., 0., 1., 0., 1., 0., 1., 1.,\n",
              "        1., 1., 1., 0., 1., 1., 1., 0., 1., 1., 1., 1., 0., 1., 1., 0., 1.,\n",
              "        1., 1., 0., 0., 0., 1., 1., 0., 1., 1., 1., 1., 0., 1., 1., 1., 0.,\n",
              "        1., 0., 1., 1., 1., 1., 1., 1., 0., 1., 0., 1., 1., 1., 0., 1., 0.,\n",
              "        1., 1., 1., 0., 1., 0., 1., 0., 1., 1., 1., 1., 1., 0., 0., 0., 1.,\n",
              "        1., 0., 1., 1., 1., 0., 0., 1., 1., 0., 0., 1., 1., 1., 1., 1., 1.,\n",
              "        1., 1., 1., 0., 1., 1., 1., 1., 0., 1., 1., 0., 0., 1., 1., 1., 1.,\n",
              "        1., 1., 1., 1., 1., 1., 1., 1., 1., 1., 1., 0., 1., 0., 0., 1., 1.,\n",
              "        0., 0., 0., 1., 1., 1., 1., 0., 1., 0., 1., 1., 1., 1., 1., 1., 1.,\n",
              "        0., 1., 0., 1., 1., 1., 0., 0., 0., 1., 0., 1., 1., 1., 1., 1., 1.,\n",
              "        1., 1., 1., 0., 1., 1., 1., 1., 0., 0., 0., 1., 1., 0., 0., 0., 1.,\n",
              "        0., 1., 0., 1., 1., 1., 1., 0., 1., 0., 0., 1., 1., 1., 1., 1., 0.,\n",
              "        1., 1., 1., 1., 1., 1., 1., 1., 0., 1., 0., 1., 0., 1., 1., 1., 0.,\n",
              "        0., 0., 1., 0., 1., 0., 1., 1., 1., 1., 1., 1., 0., 1., 1., 0., 1.,\n",
              "        1., 1., 1., 1., 0., 1., 1., 1., 0., 0., 1., 1., 0., 0., 0., 0., 1.,\n",
              "        1., 1., 0., 0., 1., 0., 0., 1., 1., 1., 1., 1., 1., 1., 0., 0., 1.,\n",
              "        1., 1., 0., 0., 1., 1., 0., 0., 1., 1., 1., 1., 1., 0., 1., 0., 0.,\n",
              "        0., 1., 0., 1., 0., 0., 1., 0., 1., 1., 1., 1., 0., 1., 0., 1., 1.,\n",
              "        1., 1., 1., 1., 1., 0., 0., 0., 1., 0., 1., 1., 1., 1., 1., 0., 1.,\n",
              "        0., 1., 1., 1., 0., 1., 0., 1., 1., 0., 1., 1., 0., 0., 1., 1., 1.,\n",
              "        1., 1., 1., 1., 0., 1., 1., 1., 1., 1., 1., 1., 0., 0., 0., 1., 1.,\n",
              "        1., 1., 1., 1., 0., 0., 1., 1., 1., 0., 1., 0., 1., 1., 0., 0., 1.,\n",
              "        1., 0., 1., 1., 1., 1., 0., 0., 1., 1., 1., 0., 1., 1., 1., 1., 1.,\n",
              "        1., 1., 1., 1., 0., 0., 1., 1., 1., 1., 1., 0., 0., 1., 1., 0., 1.,\n",
              "        1., 1., 1., 0., 1., 1., 0., 1., 1., 0., 1., 1., 1., 1., 1., 1., 1.,\n",
              "        1., 1., 1., 1., 1., 1., 0., 1., 1., 0., 1., 1., 1., 1., 1., 1., 1.,\n",
              "        0., 1., 1., 1., 1., 1., 1., 1., 1., 0., 0., 0., 1., 0., 1., 1., 1.,\n",
              "        0., 1., 1., 1., 1., 1., 0., 1., 1., 1., 1., 1., 1., 0., 1., 1., 1.,\n",
              "        0., 0., 1., 1., 1., 0., 1., 1., 1., 0., 1., 1., 1., 1., 1., 1., 1.,\n",
              "        1., 1., 1., 1., 1., 1., 0., 1., 1., 1., 1., 1., 0., 1., 0., 0., 1.,\n",
              "        1., 0., 1., 1., 1., 1., 1., 1., 1., 1., 1., 0., 1., 1., 0., 1., 0.,\n",
              "        1., 1., 1., 1., 1., 1., 1., 1., 0., 1., 1., 1., 1., 1., 1., 0., 0.,\n",
              "        0., 1., 0., 0., 1., 1., 1., 1., 1., 1., 0., 1., 0., 1., 0., 1., 0.,\n",
              "        0., 1., 0., 1., 0., 1., 1., 1., 1., 1., 0., 1., 1., 0., 1., 0., 1.,\n",
              "        1., 1., 1., 1., 1., 1., 0., 1., 1., 1., 0., 1., 1., 1., 1., 1., 0.,\n",
              "        1., 1., 1., 1., 1., 1., 0., 1., 1., 0., 1., 1., 1., 1., 1., 1., 1.,\n",
              "        0., 1., 1., 1., 1., 1., 1., 0., 1., 0., 1., 0., 1., 0., 0., 1., 0.,\n",
              "        0., 1., 1., 0., 0., 1., 1., 0., 1., 1., 1., 1., 1., 1., 1., 1., 1.,\n",
              "        1., 1., 1., 0., 1., 1., 1., 1., 1., 0., 1., 0., 1., 0., 1., 1., 1.,\n",
              "        0., 1., 1., 1., 0., 0., 1., 1., 1., 0., 0., 1., 0., 1., 1., 1., 1.,\n",
              "        1., 1., 0., 1., 0., 0., 1., 0., 0., 1., 1., 1., 1., 1., 1., 1., 0.,\n",
              "        0., 0., 1., 1., 1., 1., 1., 1., 0., 1., 0., 1., 0., 0., 0., 0., 1.,\n",
              "        1., 0., 1., 1., 1., 0., 1., 0., 1., 0., 1., 1., 1., 1., 1., 0., 0.,\n",
              "        1., 0., 1.])}"
            ]
          },
          "metadata": {},
          "execution_count": 41
        }
      ]
    },
    {
      "cell_type": "code",
      "source": [
        "cv_results['test_accuracy'].mean()"
      ],
      "metadata": {
        "colab": {
          "base_uri": "https://localhost:8080/"
        },
        "id": "3ekWPxNchB5W",
        "outputId": "295935f3-b70f-4ba2-91f7-d65eaef9a53f"
      },
      "execution_count": 42,
      "outputs": [
        {
          "data": {
            "text/plain": [
              "0.6953125"
            ]
          },
          "execution_count": 42,
          "metadata": {},
          "output_type": "execute_result"
        }
      ]
    },
    {
      "cell_type": "markdown",
      "source": [
        "Hyperarameter Tuning\n",
        "<br> Methods\n",
        "1. Grid Search Cv\n",
        "\n",
        "Crime Rate- Linear Regression"
      ],
      "metadata": {
        "id": "trz1x-zKiRFZ"
      }
    },
    {
      "cell_type": "code",
      "source": [
        "from sklearn.model_selection import GridSearchCV"
      ],
      "metadata": {
        "id": "3SABaStyiObu"
      },
      "execution_count": 43,
      "outputs": []
    },
    {
      "cell_type": "code",
      "source": [
        "crime = pd.read_csv(\"https://raw.githubusercontent.com/dphi-official/ML_Models/master/Performance_Evaluation/Standard%20Metropolitan%20Areas%20Data%20-%20train_data.csv\")"
      ],
      "metadata": {
        "id": "op0tpM_linVl"
      },
      "execution_count": 44,
      "outputs": []
    },
    {
      "cell_type": "code",
      "source": [
        "train, test = train_test_split(crime)\n",
        "x_train = train.drop('crime_rate', axis = 1)\n",
        "y_train = train.crime_rate\n",
        "x_test = test.drop('crime_rate', axis = 1)\n",
        "y_test = test.crime_rate"
      ],
      "metadata": {
        "id": "ryC29fWviraN"
      },
      "execution_count": 47,
      "outputs": []
    },
    {
      "cell_type": "markdown",
      "source": [
        "Performance without grid search:\n"
      ],
      "metadata": {
        "id": "rQGqVf8_jceV"
      }
    },
    {
      "cell_type": "code",
      "source": [
        "from sklearn.linear_model import LinearRegression\n",
        "lr = LinearRegression()\n",
        "lr.fit(x_train, y_train)\n",
        "y_pred = lr.predict(x_test)"
      ],
      "metadata": {
        "id": "FEEMGS_MjfKm"
      },
      "execution_count": 48,
      "outputs": []
    },
    {
      "cell_type": "code",
      "source": [
        "mean_squared_error(y_test, y_pred, squared=False)"
      ],
      "metadata": {
        "id": "fKhoBzqIknWF"
      },
      "execution_count": null,
      "outputs": []
    },
    {
      "cell_type": "markdown",
      "source": [
        "Performance with Grid Search\n",
        "<br> Step 1. Define parameter space"
      ],
      "metadata": {
        "id": "99qBpSB7kq3w"
      }
    },
    {
      "cell_type": "code",
      "source": [
        "parameters = {'fit_intercept': [True, False], 'normalize':[True, False], 'copy_X':[True, False], 'n_jobs':[-1, 1, 10, 15]}"
      ],
      "metadata": {
        "id": "VzqZYf7mk3qm"
      },
      "execution_count": null,
      "outputs": []
    },
    {
      "cell_type": "markdown",
      "source": [
        "Step 2: Fit the model to find the best hyperparameters on training data, and select the scorer you want to select to optimise"
      ],
      "metadata": {
        "id": "nop0C5RGlVWv"
      }
    },
    {
      "cell_type": "code",
      "source": [
        "grid = GridSearchCV(lr, parameters, cv =3)\n",
        "grid.fit(x_train, y_train)"
      ],
      "metadata": {
        "id": "wZPwZ8gnlWhN"
      },
      "execution_count": null,
      "outputs": []
    },
    {
      "cell_type": "markdown",
      "source": [
        "Step 3: Print the best obtained parameters"
      ],
      "metadata": {
        "id": "lGFJg7w9lpFl"
      }
    },
    {
      "cell_type": "code",
      "source": [
        "grid.best_estimator_"
      ],
      "metadata": {
        "id": "fjIZIjjMlskn"
      },
      "execution_count": null,
      "outputs": []
    },
    {
      "cell_type": "code",
      "source": [
        "grid_lr = LinearRegression(copy_X = True, fit_intercept=True, n_jobs =1, normalize= False)\n",
        "\n",
        "grid_lr.fit(x_train, y_train)\n",
        "y_pred = grid_lr.predict(x_test)\n",
        "mean_squared_error(y_test, y_pred, squared = False)"
      ],
      "metadata": {
        "id": "X4qiom5XlxhC"
      },
      "execution_count": null,
      "outputs": []
    },
    {
      "cell_type": "markdown",
      "source": [
        "2. Artifical Neural Network"
      ],
      "metadata": {
        "id": "3t5i-ABUmgE9"
      }
    },
    {
      "cell_type": "code",
      "source": [
        "# Use diabetes data\n",
        "x_train, x_test, y_train, y_test = train_test_split(X, y, test_size=0.2, random_state=3)"
      ],
      "metadata": {
        "id": "d5shKGUum3Mx"
      },
      "execution_count": null,
      "outputs": []
    },
    {
      "cell_type": "markdown",
      "source": [
        "step 1. define parameter space"
      ],
      "metadata": {
        "id": "QcqA0bZinc_-"
      }
    },
    {
      "cell_type": "code",
      "source": [
        "parameter_space = {\n",
        "'hidden_layer_sizes': [(50,50,50), (50,100,50), (100,)],\n",
        "'activation': ['tanh', 'relu'],\n",
        "'solver': ['sgd', 'adam'],\n",
        "'alpha': [0.0001, 0.05],\n",
        "'learning_rate': ['constant','adaptive'],\n",
        "}"
      ],
      "metadata": {
        "id": "KP4pFmrGnUU7"
      },
      "execution_count": null,
      "outputs": []
    },
    {
      "cell_type": "markdown",
      "source": [
        "Step 2: Fit the model to find the best hyperparameters on training data, and select the scorer you want to select to optimise\n",
        "\n",
        "*This code takes a long time to run, you can either skip running this part and directly just see the printed results, or wait for 10-15 mins for this to run*"
      ],
      "metadata": {
        "id": "VQTr_OiFnrka"
      }
    },
    {
      "cell_type": "code",
      "source": [
        "mlp_random = GridSearchCV(mlp, parameter_space, scoring = 'accuracy')\n",
        "mlp_random.fit(x_train, y_train)"
      ],
      "metadata": {
        "id": "docUS-JIoFJu"
      },
      "execution_count": null,
      "outputs": []
    },
    {
      "cell_type": "markdown",
      "source": [
        "Step 3: Print the best obtained parameters"
      ],
      "metadata": {
        "id": "fHMZuY3nodCr"
      }
    },
    {
      "cell_type": "code",
      "source": [
        "mlp_random.best_params_"
      ],
      "metadata": {
        "id": "5pEIGtAxoYYy"
      },
      "execution_count": null,
      "outputs": []
    },
    {
      "cell_type": "markdown",
      "source": [
        "Step 4: Train your model on these parameters"
      ],
      "metadata": {
        "id": "Th973ioMp3jV"
      }
    },
    {
      "cell_type": "code",
      "source": [
        "mlp_grid = MLPClassifier(solver='adam', learning_rate='constant', hidden_layer_sizes=(100,), alpha=0.0001,\n",
        "activation='tanh',max_iter=2000)"
      ],
      "metadata": {
        "id": "7_YvGFtpp0vG"
      },
      "execution_count": null,
      "outputs": []
    },
    {
      "cell_type": "code",
      "source": [
        "mlp_grid.fit(x_train, y_train)\n",
        "y_pred = mlp_grid.predict(x_test)\n",
        "acc_tuned = accuracy_score(y_test, y_pred)"
      ],
      "metadata": {
        "id": "79wV1DVlpaqZ"
      },
      "execution_count": null,
      "outputs": []
    },
    {
      "cell_type": "markdown",
      "source": [
        "Comparing with Accuracy from model without hyperparameter tuning"
      ],
      "metadata": {
        "id": "CGbfg8ReqCsM"
      }
    },
    {
      "cell_type": "code",
      "source": [
        "print(\"Accuracy of Tuned model: \",np.round(acc_tuned,3))\n",
        "print(\"Accuracy of non-Tuned model: \",np.round(acc,3))"
      ],
      "metadata": {
        "id": "BlhxwjiaqEW6"
      },
      "execution_count": null,
      "outputs": []
    }
  ]
}